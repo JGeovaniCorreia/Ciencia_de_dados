{
 "cells": [
  {
   "cell_type": "markdown",
   "metadata": {},
   "source": [
    "# TransactionSentinel: Proteção inteligente contra fraudes em transações de cartão de crédito."
   ]
  },
  {
   "cell_type": "markdown",
   "metadata": {},
   "source": [
    "\n",
    "* Este notebook apresenta a construção de um estudo e um modelo de ML para detecção de fraudes em dados financeiros fictícios, seguindo a metodologia CRISP-DM.\n",
    "\n",
    "* A abordagem será estruturada em cinco das seis etapas da metodologia. A etapa de Deploy (Implantação) não será totalmente executada; no entanto, o modelo será salvo como se estivesse pronto para produção.\n",
    "    * Etapas: \n",
    "\n",
    "        * **Compreensão do Negócio** – Definição do problema e dos objetivos do projeto.\n",
    "\n",
    "        * **Compreensão dos Dados** – Exploração inicial para entender a estrutura e qualidade dos dados.\n",
    "\n",
    "        * **Preparação dos Dados** – Tratamento, limpeza e transformação dos dados para a modelagem.\n",
    "\n",
    "        * **Modelagem** – Aplicação de algoritmos de machine learning para detectar padrões de fraude.\n",
    "\n",
    "        * **Avaliação** – Medição do desempenho do modelo para garantir sua eficácia.\n",
    "\n",
    "        * **Deploy** (Implantação) – Integração do modelo em um ambiente operacional para uso real."
   ]
  },
  {
   "cell_type": "markdown",
   "metadata": {},
   "source": []
  },
  {
   "cell_type": "markdown",
   "metadata": {},
   "source": [
    "# 1.Compreensão do Negócio\n",
    "\n",
    "* A detecção de fraudes em transações financeiras é um desafio essencial para instituições bancárias e operadoras de cartões de crédito. A identificação eficiente de fraudes reduz perdas financeiras e protege clientes contra atividades fraudulentas.\n",
    "\n",
    "* Objetivo do Projeto:\n",
    "\n",
    "    * 1- Desenvolver uma análise exploratória que forneça informações sobre o comportamento dos eventos fraudulentos e não fraudulentos. \n",
    "\n",
    "    * 2-Desenvolver um modelo de Machine Learning capaz de identificar transações fraudulentas com alto desempenho, garantindo um equilíbrio entre segurança e experiência do usuário.\n",
    "\n",
    "\n",
    "\n",
    "        * O modelo será avaliado com as seguintes métricas:\n",
    "\n",
    "        * **Recall ≥ 70% ** – Para minimizar a quantidade de fraudes não detectadas.\n",
    "\n",
    "        * ** AUC-ROC ≥ 85% ** – Para garantir uma boa distinção entre transações legítimas e fraudulentas.\n",
    "\n",
    "        * ** F1-score ≥ 74% ** – Para garantir um bom equilíbrio entre precisão e recall, considerando a importância de minimizar tanto os falsos positivos quanto os falsos negativos.\n",
    "\n",
    "* Restrições de Negócio\n",
    "\n",
    "    Para atender a requisitos e garantir um modelo confiável:\n",
    "\n",
    "    * Imparcialidade e Prevenção de Discriminação: \n",
    "    \n",
    "        O modelo não deve apresentar tendências discriminatórias baseadas em atributos como gênero, idade, localização ou outros fatores socioeconômicos. Se esse tipo de varivel for interessante ao evento em estudo, deve se aplicar transformacoes nessas variaveis para que seja mitigada chance de vies descriminativo, ex: idade pode ser transformada em faixas etarias, localizacao pode se tornar distancia entre residencia do titular e local do estabelecimento (verificando distancia de tempo entre duas ou mais transacoes) para identificar algum padrao nas fraudes. \n",
    "\n",
    " \n",
    "\n",
    "\n",
    "    * Explicabilidade e Transparência\n",
    "\n",
    "        O modelo deve ser interpretável tanto globalmente quanto localmente, garantindo que especialistas possam entender seus critérios de decisão. Técnicas como SHAP (SHapley Additive Explanations) e LIME (Local Interpretable Model-agnostic Explanations) serão aplicadas para fornecer insights sobre as previsões do modelo.\n",
    "\n",
    "* Escopo da Implantação\n",
    "    * O modelo final será salvo para futuras implementações, mas a fase de Deploy não será completamente executada neste estudo.\n",
    "\n"
   ]
  },
  {
   "cell_type": "markdown",
   "metadata": {},
   "source": [
    "# 2.Compreensão dos Dados"
   ]
  },
  {
   "cell_type": "code",
   "execution_count": 1,
   "metadata": {},
   "outputs": [],
   "source": [
    "#Bibliotecas\n",
    "import pandas as pd \n",
    "import numpy as np\n",
    "import matplotlib.pyplot as plt\n",
    "import seaborn as sns\n",
    "import matplotlib.ticker as ticker\n",
    "import warnings\n",
    "from scipy.stats import chi2_contingency\n",
    "import plotly.express as px\n",
    "import plotly.graph_objects as go"
   ]
  },
  {
   "cell_type": "markdown",
   "metadata": {},
   "source": [
    "* Importando e conhecendo os dados inicialmente"
   ]
  },
  {
   "cell_type": "code",
   "execution_count": 2,
   "metadata": {},
   "outputs": [],
   "source": [
    "############para Kaggle\n",
    "\n",
    "# Load the training dataset\n",
    "#train_data = pd.read_csv('/kaggle/input/fraud-detection/fraudTrain.csv') \n",
    "\n",
    "# Load the testing dataset\n",
    "#test_data = pd.read_csv('/kaggle/input/fraud-detection/fraudTest.csv')\n",
    "\n",
    "# Display the first few rows of both datasets\n",
    "#print(\"First 5 rows of the training dataset:\")\n",
    "#print(train_data.head())\n",
    "\n",
    "#print(\"\\nFirst 5 rows of the testing dataset:\")\n",
    "#print(test_data.head())\n",
    "\n",
    "\n",
    "# Carregando arquivos em parquet\n",
    "df_orig_train = pd.read_parquet('C:/Users/jgeov/OneDrive/Documentos/GitHub/Ciencia_de_dados-1/fraudTrain.parquet')\n",
    "df_orig_test = pd.read_parquet('C:/Users/jgeov/OneDrive/Documentos/GitHub/Ciencia_de_dados-1/fraudTest.parquet')\n",
    "\n",
    "\n",
    "\n"
   ]
  },
  {
   "cell_type": "code",
   "execution_count": 3,
   "metadata": {},
   "outputs": [
    {
     "name": "stdout",
     "output_type": "stream",
     "text": [
      "df_treino dimesoes: (1296675, 23)\n",
      "df_teste dimesoes: (555719, 23)\n"
     ]
    }
   ],
   "source": [
    "print('df_treino dimesoes:',df_orig_train.shape) #batem com o original, sem perdas de dados\n",
    "\n",
    "print('df_teste dimesoes:',df_orig_test.shape)  #batem com o original, sem perdas de dados"
   ]
  },
  {
   "cell_type": "code",
   "execution_count": 4,
   "metadata": {},
   "outputs": [
    {
     "data": {
      "text/html": [
       "<div>\n",
       "<style scoped>\n",
       "    .dataframe tbody tr th:only-of-type {\n",
       "        vertical-align: middle;\n",
       "    }\n",
       "\n",
       "    .dataframe tbody tr th {\n",
       "        vertical-align: top;\n",
       "    }\n",
       "\n",
       "    .dataframe thead th {\n",
       "        text-align: right;\n",
       "    }\n",
       "</style>\n",
       "<table border=\"1\" class=\"dataframe\">\n",
       "  <thead>\n",
       "    <tr style=\"text-align: right;\">\n",
       "      <th></th>\n",
       "      <th>Unnamed: 0</th>\n",
       "      <th>trans_date_trans_time</th>\n",
       "      <th>cc_num</th>\n",
       "      <th>merchant</th>\n",
       "      <th>category</th>\n",
       "      <th>amt</th>\n",
       "      <th>first</th>\n",
       "      <th>last</th>\n",
       "      <th>gender</th>\n",
       "      <th>street</th>\n",
       "      <th>city</th>\n",
       "      <th>state</th>\n",
       "      <th>zip</th>\n",
       "      <th>lat</th>\n",
       "      <th>long</th>\n",
       "      <th>city_pop</th>\n",
       "      <th>job</th>\n",
       "      <th>dob</th>\n",
       "      <th>trans_num</th>\n",
       "      <th>unix_time</th>\n",
       "      <th>merch_lat</th>\n",
       "      <th>merch_long</th>\n",
       "      <th>is_fraud</th>\n",
       "    </tr>\n",
       "  </thead>\n",
       "  <tbody>\n",
       "    <tr>\n",
       "      <th>0</th>\n",
       "      <td>0</td>\n",
       "      <td>2019-01-01 00:00:18</td>\n",
       "      <td>2703186189652095</td>\n",
       "      <td>fraud_Rippin, Kub and Mann</td>\n",
       "      <td>misc_net</td>\n",
       "      <td>4.97</td>\n",
       "      <td>Jennifer</td>\n",
       "      <td>Banks</td>\n",
       "      <td>F</td>\n",
       "      <td>561 Perry Cove</td>\n",
       "      <td>Moravian Falls</td>\n",
       "      <td>NC</td>\n",
       "      <td>28654</td>\n",
       "      <td>36.0788</td>\n",
       "      <td>-81.1781</td>\n",
       "      <td>3495</td>\n",
       "      <td>Psychologist, counselling</td>\n",
       "      <td>1988-03-09</td>\n",
       "      <td>0b242abb623afc578575680df30655b9</td>\n",
       "      <td>1325376018</td>\n",
       "      <td>36.011293</td>\n",
       "      <td>-82.048315</td>\n",
       "      <td>0</td>\n",
       "    </tr>\n",
       "    <tr>\n",
       "      <th>1</th>\n",
       "      <td>1</td>\n",
       "      <td>2019-01-01 00:00:44</td>\n",
       "      <td>630423337322</td>\n",
       "      <td>fraud_Heller, Gutmann and Zieme</td>\n",
       "      <td>grocery_pos</td>\n",
       "      <td>107.23</td>\n",
       "      <td>Stephanie</td>\n",
       "      <td>Gill</td>\n",
       "      <td>F</td>\n",
       "      <td>43039 Riley Greens Suite 393</td>\n",
       "      <td>Orient</td>\n",
       "      <td>WA</td>\n",
       "      <td>99160</td>\n",
       "      <td>48.8878</td>\n",
       "      <td>-118.2105</td>\n",
       "      <td>149</td>\n",
       "      <td>Special educational needs teacher</td>\n",
       "      <td>1978-06-21</td>\n",
       "      <td>1f76529f8574734946361c461b024d99</td>\n",
       "      <td>1325376044</td>\n",
       "      <td>49.159047</td>\n",
       "      <td>-118.186462</td>\n",
       "      <td>0</td>\n",
       "    </tr>\n",
       "    <tr>\n",
       "      <th>2</th>\n",
       "      <td>2</td>\n",
       "      <td>2019-01-01 00:00:51</td>\n",
       "      <td>38859492057661</td>\n",
       "      <td>fraud_Lind-Buckridge</td>\n",
       "      <td>entertainment</td>\n",
       "      <td>220.11</td>\n",
       "      <td>Edward</td>\n",
       "      <td>Sanchez</td>\n",
       "      <td>M</td>\n",
       "      <td>594 White Dale Suite 530</td>\n",
       "      <td>Malad City</td>\n",
       "      <td>ID</td>\n",
       "      <td>83252</td>\n",
       "      <td>42.1808</td>\n",
       "      <td>-112.2620</td>\n",
       "      <td>4154</td>\n",
       "      <td>Nature conservation officer</td>\n",
       "      <td>1962-01-19</td>\n",
       "      <td>a1a22d70485983eac12b5b88dad1cf95</td>\n",
       "      <td>1325376051</td>\n",
       "      <td>43.150704</td>\n",
       "      <td>-112.154481</td>\n",
       "      <td>0</td>\n",
       "    </tr>\n",
       "  </tbody>\n",
       "</table>\n",
       "</div>"
      ],
      "text/plain": [
       "   Unnamed: 0 trans_date_trans_time            cc_num                         merchant       category     amt      first     last gender                        street            city state    zip      lat      long  city_pop                                job         dob                         trans_num   unix_time  merch_lat  merch_long  is_fraud\n",
       "0           0   2019-01-01 00:00:18  2703186189652095       fraud_Rippin, Kub and Mann       misc_net    4.97   Jennifer    Banks      F                561 Perry Cove  Moravian Falls    NC  28654  36.0788  -81.1781      3495          Psychologist, counselling  1988-03-09  0b242abb623afc578575680df30655b9  1325376018  36.011293  -82.048315         0\n",
       "1           1   2019-01-01 00:00:44      630423337322  fraud_Heller, Gutmann and Zieme    grocery_pos  107.23  Stephanie     Gill      F  43039 Riley Greens Suite 393          Orient    WA  99160  48.8878 -118.2105       149  Special educational needs teacher  1978-06-21  1f76529f8574734946361c461b024d99  1325376044  49.159047 -118.186462         0\n",
       "2           2   2019-01-01 00:00:51    38859492057661             fraud_Lind-Buckridge  entertainment  220.11     Edward  Sanchez      M      594 White Dale Suite 530      Malad City    ID  83252  42.1808 -112.2620      4154        Nature conservation officer  1962-01-19  a1a22d70485983eac12b5b88dad1cf95  1325376051  43.150704 -112.154481         0"
      ]
     },
     "execution_count": 4,
     "metadata": {},
     "output_type": "execute_result"
    }
   ],
   "source": [
    "# Se você quiser combiná-los (por exemplo, por concatenação)\n",
    "df_total = pd.concat([df_orig_train, df_orig_test], ignore_index=True)\n",
    "\n",
    "# Exibindo as primeiras linhas do DataFrame combinado\n",
    "\n",
    "#configs para nao quebrar linhas no print do  df\n",
    "pd.set_option('display.expand_frame_repr', False) \n",
    "pd.set_option('display.max_columns', None)\n",
    "\n",
    "\n",
    "df_total.head(3)\n"
   ]
  },
  {
   "cell_type": "code",
   "execution_count": 5,
   "metadata": {},
   "outputs": [
    {
     "data": {
      "text/html": [
       "<div>\n",
       "<style scoped>\n",
       "    .dataframe tbody tr th:only-of-type {\n",
       "        vertical-align: middle;\n",
       "    }\n",
       "\n",
       "    .dataframe tbody tr th {\n",
       "        vertical-align: top;\n",
       "    }\n",
       "\n",
       "    .dataframe thead th {\n",
       "        text-align: right;\n",
       "    }\n",
       "</style>\n",
       "<table border=\"1\" class=\"dataframe\">\n",
       "  <thead>\n",
       "    <tr style=\"text-align: right;\">\n",
       "      <th></th>\n",
       "      <th>Unnamed: 0</th>\n",
       "      <th>trans_date_trans_time</th>\n",
       "      <th>cc_num</th>\n",
       "      <th>merchant</th>\n",
       "      <th>category</th>\n",
       "      <th>amt</th>\n",
       "      <th>first</th>\n",
       "      <th>last</th>\n",
       "      <th>gender</th>\n",
       "      <th>street</th>\n",
       "      <th>city</th>\n",
       "      <th>state</th>\n",
       "      <th>zip</th>\n",
       "      <th>lat</th>\n",
       "      <th>long</th>\n",
       "      <th>city_pop</th>\n",
       "      <th>job</th>\n",
       "      <th>dob</th>\n",
       "      <th>trans_num</th>\n",
       "      <th>unix_time</th>\n",
       "      <th>merch_lat</th>\n",
       "      <th>merch_long</th>\n",
       "      <th>is_fraud</th>\n",
       "    </tr>\n",
       "  </thead>\n",
       "  <tbody>\n",
       "    <tr>\n",
       "      <th>1296675</th>\n",
       "      <td>0</td>\n",
       "      <td>2020-06-21 12:14:25</td>\n",
       "      <td>2291163933867244</td>\n",
       "      <td>fraud_Kirlin and Sons</td>\n",
       "      <td>personal_care</td>\n",
       "      <td>2.86</td>\n",
       "      <td>Jeff</td>\n",
       "      <td>Elliott</td>\n",
       "      <td>M</td>\n",
       "      <td>351 Darlene Green</td>\n",
       "      <td>Columbia</td>\n",
       "      <td>SC</td>\n",
       "      <td>29209</td>\n",
       "      <td>33.9659</td>\n",
       "      <td>-80.9355</td>\n",
       "      <td>333497</td>\n",
       "      <td>Mechanical engineer</td>\n",
       "      <td>1968-03-19</td>\n",
       "      <td>2da90c7d74bd46a0caf3777415b3ebd3</td>\n",
       "      <td>1371816865</td>\n",
       "      <td>33.986391</td>\n",
       "      <td>-81.200714</td>\n",
       "      <td>0</td>\n",
       "    </tr>\n",
       "    <tr>\n",
       "      <th>0</th>\n",
       "      <td>0</td>\n",
       "      <td>2019-01-01 00:00:18</td>\n",
       "      <td>2703186189652095</td>\n",
       "      <td>fraud_Rippin, Kub and Mann</td>\n",
       "      <td>misc_net</td>\n",
       "      <td>4.97</td>\n",
       "      <td>Jennifer</td>\n",
       "      <td>Banks</td>\n",
       "      <td>F</td>\n",
       "      <td>561 Perry Cove</td>\n",
       "      <td>Moravian Falls</td>\n",
       "      <td>NC</td>\n",
       "      <td>28654</td>\n",
       "      <td>36.0788</td>\n",
       "      <td>-81.1781</td>\n",
       "      <td>3495</td>\n",
       "      <td>Psychologist, counselling</td>\n",
       "      <td>1988-03-09</td>\n",
       "      <td>0b242abb623afc578575680df30655b9</td>\n",
       "      <td>1325376018</td>\n",
       "      <td>36.011293</td>\n",
       "      <td>-82.048315</td>\n",
       "      <td>0</td>\n",
       "    </tr>\n",
       "    <tr>\n",
       "      <th>1296676</th>\n",
       "      <td>1</td>\n",
       "      <td>2020-06-21 12:14:33</td>\n",
       "      <td>3573030041201292</td>\n",
       "      <td>fraud_Sporer-Keebler</td>\n",
       "      <td>personal_care</td>\n",
       "      <td>29.84</td>\n",
       "      <td>Joanne</td>\n",
       "      <td>Williams</td>\n",
       "      <td>F</td>\n",
       "      <td>3638 Marsh Union</td>\n",
       "      <td>Altonah</td>\n",
       "      <td>UT</td>\n",
       "      <td>84002</td>\n",
       "      <td>40.3207</td>\n",
       "      <td>-110.4360</td>\n",
       "      <td>302</td>\n",
       "      <td>Sales professional, IT</td>\n",
       "      <td>1990-01-17</td>\n",
       "      <td>324cc204407e99f51b0d6ca0055005e7</td>\n",
       "      <td>1371816873</td>\n",
       "      <td>39.450498</td>\n",
       "      <td>-109.960431</td>\n",
       "      <td>0</td>\n",
       "    </tr>\n",
       "    <tr>\n",
       "      <th>1</th>\n",
       "      <td>1</td>\n",
       "      <td>2019-01-01 00:00:44</td>\n",
       "      <td>630423337322</td>\n",
       "      <td>fraud_Heller, Gutmann and Zieme</td>\n",
       "      <td>grocery_pos</td>\n",
       "      <td>107.23</td>\n",
       "      <td>Stephanie</td>\n",
       "      <td>Gill</td>\n",
       "      <td>F</td>\n",
       "      <td>43039 Riley Greens Suite 393</td>\n",
       "      <td>Orient</td>\n",
       "      <td>WA</td>\n",
       "      <td>99160</td>\n",
       "      <td>48.8878</td>\n",
       "      <td>-118.2105</td>\n",
       "      <td>149</td>\n",
       "      <td>Special educational needs teacher</td>\n",
       "      <td>1978-06-21</td>\n",
       "      <td>1f76529f8574734946361c461b024d99</td>\n",
       "      <td>1325376044</td>\n",
       "      <td>49.159047</td>\n",
       "      <td>-118.186462</td>\n",
       "      <td>0</td>\n",
       "    </tr>\n",
       "    <tr>\n",
       "      <th>2</th>\n",
       "      <td>2</td>\n",
       "      <td>2019-01-01 00:00:51</td>\n",
       "      <td>38859492057661</td>\n",
       "      <td>fraud_Lind-Buckridge</td>\n",
       "      <td>entertainment</td>\n",
       "      <td>220.11</td>\n",
       "      <td>Edward</td>\n",
       "      <td>Sanchez</td>\n",
       "      <td>M</td>\n",
       "      <td>594 White Dale Suite 530</td>\n",
       "      <td>Malad City</td>\n",
       "      <td>ID</td>\n",
       "      <td>83252</td>\n",
       "      <td>42.1808</td>\n",
       "      <td>-112.2620</td>\n",
       "      <td>4154</td>\n",
       "      <td>Nature conservation officer</td>\n",
       "      <td>1962-01-19</td>\n",
       "      <td>a1a22d70485983eac12b5b88dad1cf95</td>\n",
       "      <td>1325376051</td>\n",
       "      <td>43.150704</td>\n",
       "      <td>-112.154481</td>\n",
       "      <td>0</td>\n",
       "    </tr>\n",
       "  </tbody>\n",
       "</table>\n",
       "</div>"
      ],
      "text/plain": [
       "         Unnamed: 0 trans_date_trans_time            cc_num                         merchant       category     amt      first      last gender                        street            city state    zip      lat      long  city_pop                                job         dob                         trans_num   unix_time  merch_lat  merch_long  is_fraud\n",
       "1296675           0   2020-06-21 12:14:25  2291163933867244            fraud_Kirlin and Sons  personal_care    2.86       Jeff   Elliott      M             351 Darlene Green        Columbia    SC  29209  33.9659  -80.9355    333497                Mechanical engineer  1968-03-19  2da90c7d74bd46a0caf3777415b3ebd3  1371816865  33.986391  -81.200714         0\n",
       "0                 0   2019-01-01 00:00:18  2703186189652095       fraud_Rippin, Kub and Mann       misc_net    4.97   Jennifer     Banks      F                561 Perry Cove  Moravian Falls    NC  28654  36.0788  -81.1781      3495          Psychologist, counselling  1988-03-09  0b242abb623afc578575680df30655b9  1325376018  36.011293  -82.048315         0\n",
       "1296676           1   2020-06-21 12:14:33  3573030041201292             fraud_Sporer-Keebler  personal_care   29.84     Joanne  Williams      F              3638 Marsh Union         Altonah    UT  84002  40.3207 -110.4360       302             Sales professional, IT  1990-01-17  324cc204407e99f51b0d6ca0055005e7  1371816873  39.450498 -109.960431         0\n",
       "1                 1   2019-01-01 00:00:44      630423337322  fraud_Heller, Gutmann and Zieme    grocery_pos  107.23  Stephanie      Gill      F  43039 Riley Greens Suite 393          Orient    WA  99160  48.8878 -118.2105       149  Special educational needs teacher  1978-06-21  1f76529f8574734946361c461b024d99  1325376044  49.159047 -118.186462         0\n",
       "2                 2   2019-01-01 00:00:51    38859492057661             fraud_Lind-Buckridge  entertainment  220.11     Edward   Sanchez      M      594 White Dale Suite 530      Malad City    ID  83252  42.1808 -112.2620      4154        Nature conservation officer  1962-01-19  a1a22d70485983eac12b5b88dad1cf95  1325376051  43.150704 -112.154481         0"
      ]
     },
     "execution_count": 5,
     "metadata": {},
     "output_type": "execute_result"
    }
   ],
   "source": [
    "#A coluna \"Unnamed: 0\" representa apenas a contagem dos datasets de treino e teste. Ao concatená-los para a compreensão dos dados, essa coluna foi duplicada.\n",
    "#Como se trata apenas de um índice sem valor informativo para a análise, e não será utilizada em nenhuma etapa do estudo, ela será removida já nesta fase.\n",
    "df_total.sort_values(by=\"Unnamed: 0\", ascending=True).head(5)\n"
   ]
  },
  {
   "cell_type": "code",
   "execution_count": 6,
   "metadata": {},
   "outputs": [
    {
     "data": {
      "text/html": [
       "<div>\n",
       "<style scoped>\n",
       "    .dataframe tbody tr th:only-of-type {\n",
       "        vertical-align: middle;\n",
       "    }\n",
       "\n",
       "    .dataframe tbody tr th {\n",
       "        vertical-align: top;\n",
       "    }\n",
       "\n",
       "    .dataframe thead th {\n",
       "        text-align: right;\n",
       "    }\n",
       "</style>\n",
       "<table border=\"1\" class=\"dataframe\">\n",
       "  <thead>\n",
       "    <tr style=\"text-align: right;\">\n",
       "      <th></th>\n",
       "      <th>trans_date_trans_time</th>\n",
       "      <th>cc_num</th>\n",
       "      <th>merchant</th>\n",
       "      <th>category</th>\n",
       "      <th>amt</th>\n",
       "      <th>first</th>\n",
       "      <th>last</th>\n",
       "      <th>gender</th>\n",
       "      <th>street</th>\n",
       "      <th>city</th>\n",
       "      <th>state</th>\n",
       "      <th>zip</th>\n",
       "      <th>lat</th>\n",
       "      <th>long</th>\n",
       "      <th>city_pop</th>\n",
       "      <th>job</th>\n",
       "      <th>dob</th>\n",
       "      <th>trans_num</th>\n",
       "      <th>unix_time</th>\n",
       "      <th>merch_lat</th>\n",
       "      <th>merch_long</th>\n",
       "      <th>is_fraud</th>\n",
       "    </tr>\n",
       "  </thead>\n",
       "  <tbody>\n",
       "    <tr>\n",
       "      <th>0</th>\n",
       "      <td>2019-01-01 00:00:18</td>\n",
       "      <td>2703186189652095</td>\n",
       "      <td>fraud_Rippin, Kub and Mann</td>\n",
       "      <td>misc_net</td>\n",
       "      <td>4.97</td>\n",
       "      <td>Jennifer</td>\n",
       "      <td>Banks</td>\n",
       "      <td>F</td>\n",
       "      <td>561 Perry Cove</td>\n",
       "      <td>Moravian Falls</td>\n",
       "      <td>NC</td>\n",
       "      <td>28654</td>\n",
       "      <td>36.0788</td>\n",
       "      <td>-81.1781</td>\n",
       "      <td>3495</td>\n",
       "      <td>Psychologist, counselling</td>\n",
       "      <td>1988-03-09</td>\n",
       "      <td>0b242abb623afc578575680df30655b9</td>\n",
       "      <td>1325376018</td>\n",
       "      <td>36.011293</td>\n",
       "      <td>-82.048315</td>\n",
       "      <td>0</td>\n",
       "    </tr>\n",
       "    <tr>\n",
       "      <th>1</th>\n",
       "      <td>2019-01-01 00:00:44</td>\n",
       "      <td>630423337322</td>\n",
       "      <td>fraud_Heller, Gutmann and Zieme</td>\n",
       "      <td>grocery_pos</td>\n",
       "      <td>107.23</td>\n",
       "      <td>Stephanie</td>\n",
       "      <td>Gill</td>\n",
       "      <td>F</td>\n",
       "      <td>43039 Riley Greens Suite 393</td>\n",
       "      <td>Orient</td>\n",
       "      <td>WA</td>\n",
       "      <td>99160</td>\n",
       "      <td>48.8878</td>\n",
       "      <td>-118.2105</td>\n",
       "      <td>149</td>\n",
       "      <td>Special educational needs teacher</td>\n",
       "      <td>1978-06-21</td>\n",
       "      <td>1f76529f8574734946361c461b024d99</td>\n",
       "      <td>1325376044</td>\n",
       "      <td>49.159047</td>\n",
       "      <td>-118.186462</td>\n",
       "      <td>0</td>\n",
       "    </tr>\n",
       "    <tr>\n",
       "      <th>2</th>\n",
       "      <td>2019-01-01 00:00:51</td>\n",
       "      <td>38859492057661</td>\n",
       "      <td>fraud_Lind-Buckridge</td>\n",
       "      <td>entertainment</td>\n",
       "      <td>220.11</td>\n",
       "      <td>Edward</td>\n",
       "      <td>Sanchez</td>\n",
       "      <td>M</td>\n",
       "      <td>594 White Dale Suite 530</td>\n",
       "      <td>Malad City</td>\n",
       "      <td>ID</td>\n",
       "      <td>83252</td>\n",
       "      <td>42.1808</td>\n",
       "      <td>-112.2620</td>\n",
       "      <td>4154</td>\n",
       "      <td>Nature conservation officer</td>\n",
       "      <td>1962-01-19</td>\n",
       "      <td>a1a22d70485983eac12b5b88dad1cf95</td>\n",
       "      <td>1325376051</td>\n",
       "      <td>43.150704</td>\n",
       "      <td>-112.154481</td>\n",
       "      <td>0</td>\n",
       "    </tr>\n",
       "    <tr>\n",
       "      <th>3</th>\n",
       "      <td>2019-01-01 00:01:16</td>\n",
       "      <td>3534093764340240</td>\n",
       "      <td>fraud_Kutch, Hermiston and Farrell</td>\n",
       "      <td>gas_transport</td>\n",
       "      <td>45.00</td>\n",
       "      <td>Jeremy</td>\n",
       "      <td>White</td>\n",
       "      <td>M</td>\n",
       "      <td>9443 Cynthia Court Apt. 038</td>\n",
       "      <td>Boulder</td>\n",
       "      <td>MT</td>\n",
       "      <td>59632</td>\n",
       "      <td>46.2306</td>\n",
       "      <td>-112.1138</td>\n",
       "      <td>1939</td>\n",
       "      <td>Patent attorney</td>\n",
       "      <td>1967-01-12</td>\n",
       "      <td>6b849c168bdad6f867558c3793159a81</td>\n",
       "      <td>1325376076</td>\n",
       "      <td>47.034331</td>\n",
       "      <td>-112.561071</td>\n",
       "      <td>0</td>\n",
       "    </tr>\n",
       "    <tr>\n",
       "      <th>4</th>\n",
       "      <td>2019-01-01 00:03:06</td>\n",
       "      <td>375534208663984</td>\n",
       "      <td>fraud_Keeling-Crist</td>\n",
       "      <td>misc_pos</td>\n",
       "      <td>41.96</td>\n",
       "      <td>Tyler</td>\n",
       "      <td>Garcia</td>\n",
       "      <td>M</td>\n",
       "      <td>408 Bradley Rest</td>\n",
       "      <td>Doe Hill</td>\n",
       "      <td>VA</td>\n",
       "      <td>24433</td>\n",
       "      <td>38.4207</td>\n",
       "      <td>-79.4629</td>\n",
       "      <td>99</td>\n",
       "      <td>Dance movement psychotherapist</td>\n",
       "      <td>1986-03-28</td>\n",
       "      <td>a41d7549acf90789359a9aa5346dcb46</td>\n",
       "      <td>1325376186</td>\n",
       "      <td>38.674999</td>\n",
       "      <td>-78.632459</td>\n",
       "      <td>0</td>\n",
       "    </tr>\n",
       "  </tbody>\n",
       "</table>\n",
       "</div>"
      ],
      "text/plain": [
       "  trans_date_trans_time            cc_num                            merchant       category     amt      first     last gender                        street            city state    zip      lat      long  city_pop                                job         dob                         trans_num   unix_time  merch_lat  merch_long  is_fraud\n",
       "0   2019-01-01 00:00:18  2703186189652095          fraud_Rippin, Kub and Mann       misc_net    4.97   Jennifer    Banks      F                561 Perry Cove  Moravian Falls    NC  28654  36.0788  -81.1781      3495          Psychologist, counselling  1988-03-09  0b242abb623afc578575680df30655b9  1325376018  36.011293  -82.048315         0\n",
       "1   2019-01-01 00:00:44      630423337322     fraud_Heller, Gutmann and Zieme    grocery_pos  107.23  Stephanie     Gill      F  43039 Riley Greens Suite 393          Orient    WA  99160  48.8878 -118.2105       149  Special educational needs teacher  1978-06-21  1f76529f8574734946361c461b024d99  1325376044  49.159047 -118.186462         0\n",
       "2   2019-01-01 00:00:51    38859492057661                fraud_Lind-Buckridge  entertainment  220.11     Edward  Sanchez      M      594 White Dale Suite 530      Malad City    ID  83252  42.1808 -112.2620      4154        Nature conservation officer  1962-01-19  a1a22d70485983eac12b5b88dad1cf95  1325376051  43.150704 -112.154481         0\n",
       "3   2019-01-01 00:01:16  3534093764340240  fraud_Kutch, Hermiston and Farrell  gas_transport   45.00     Jeremy    White      M   9443 Cynthia Court Apt. 038         Boulder    MT  59632  46.2306 -112.1138      1939                    Patent attorney  1967-01-12  6b849c168bdad6f867558c3793159a81  1325376076  47.034331 -112.561071         0\n",
       "4   2019-01-01 00:03:06   375534208663984                 fraud_Keeling-Crist       misc_pos   41.96      Tyler   Garcia      M              408 Bradley Rest        Doe Hill    VA  24433  38.4207  -79.4629        99     Dance movement psychotherapist  1986-03-28  a41d7549acf90789359a9aa5346dcb46  1325376186  38.674999  -78.632459         0"
      ]
     },
     "execution_count": 6,
     "metadata": {},
     "output_type": "execute_result"
    }
   ],
   "source": [
    "#removendo \n",
    "df_total = df_total.drop(columns=[\"Unnamed: 0\"])\n",
    "\n",
    "#resetando indice (morrer de certeza, depois da concatenacao pode ter duplicado tambem em algum ponto)\n",
    "df_total = df_total.reset_index(drop=True)\n",
    "\n",
    "#ordenando os dados pelo indice\n",
    "df_total = df_total.sort_index(ascending=True)\n",
    "\n",
    "\n",
    "df_total.head(5)\n"
   ]
  },
  {
   "cell_type": "code",
   "execution_count": 7,
   "metadata": {},
   "outputs": [
    {
     "name": "stdout",
     "output_type": "stream",
     "text": [
      "df_total dimesoes: (1852394, 22)\n"
     ]
    }
   ],
   "source": [
    "print('df_total dimesoes:',df_total.shape) #comparacao com soma dos dfs de treino e teste (soma bate) ok"
   ]
  },
  {
   "cell_type": "code",
   "execution_count": 8,
   "metadata": {},
   "outputs": [
    {
     "name": "stdout",
     "output_type": "stream",
     "text": [
      "Index(['trans_date_trans_time', 'cc_num', 'merchant', 'category', 'amt',\n",
      "       'first', 'last', 'gender', 'street', 'city', 'state', 'zip', 'lat',\n",
      "       'long', 'city_pop', 'job', 'dob', 'trans_num', 'unix_time', 'merch_lat',\n",
      "       'merch_long', 'is_fraud'],\n",
      "      dtype='object')\n",
      "\n",
      "trans_date_trans_time     object\n",
      "cc_num                     int64\n",
      "merchant                  object\n",
      "category                  object\n",
      "amt                      float64\n",
      "first                     object\n",
      "last                      object\n",
      "gender                    object\n",
      "street                    object\n",
      "city                      object\n",
      "state                     object\n",
      "zip                        int64\n",
      "lat                      float64\n",
      "long                     float64\n",
      "city_pop                   int64\n",
      "job                       object\n",
      "dob                       object\n",
      "trans_num                 object\n",
      "unix_time                  int64\n",
      "merch_lat                float64\n",
      "merch_long               float64\n",
      "is_fraud                   int64\n",
      "dtype: object\n"
     ]
    }
   ],
   "source": [
    "#cnhecendo as colunas e tipos de dados\n",
    "print(df_total.columns)\n",
    "print(\"\")\n",
    "print(df_total.dtypes)"
   ]
  },
  {
   "cell_type": "code",
   "execution_count": 9,
   "metadata": {},
   "outputs": [
    {
     "data": {
      "text/plain": [
       "trans_date_trans_time    0\n",
       "cc_num                   0\n",
       "merchant                 0\n",
       "category                 0\n",
       "amt                      0\n",
       "first                    0\n",
       "last                     0\n",
       "gender                   0\n",
       "street                   0\n",
       "city                     0\n",
       "state                    0\n",
       "zip                      0\n",
       "lat                      0\n",
       "long                     0\n",
       "city_pop                 0\n",
       "job                      0\n",
       "dob                      0\n",
       "trans_num                0\n",
       "unix_time                0\n",
       "merch_lat                0\n",
       "merch_long               0\n",
       "is_fraud                 0\n",
       "dtype: int64"
      ]
     },
     "execution_count": 9,
     "metadata": {},
     "output_type": "execute_result"
    }
   ],
   "source": [
    "#checando os valores null em cada variavel \n",
    "\n",
    "#checando se há valores nulos \n",
    "df_total.isnull().sum()  \n",
    "#valores nulos nao encontrados "
   ]
  },
  {
   "cell_type": "code",
   "execution_count": 10,
   "metadata": {},
   "outputs": [
    {
     "name": "stdout",
     "output_type": "stream",
     "text": [
      "\n",
      " 'trans_date_trans_time': 0 valores zero\n",
      "\n",
      " 'cc_num': 0 valores zero\n",
      "\n",
      " 'merchant': 0 valores zero\n",
      "\n",
      " 'category': 0 valores zero\n",
      "\n",
      " 'amt': 0 valores zero\n",
      "\n",
      " 'first': 0 valores zero\n",
      "\n",
      " 'last': 0 valores zero\n",
      "\n",
      " 'gender': 0 valores zero\n",
      "\n",
      " 'street': 0 valores zero\n",
      "\n",
      " 'city': 0 valores zero\n",
      "\n",
      " 'state': 0 valores zero\n",
      "\n",
      " 'zip': 0 valores zero\n",
      "\n",
      " 'lat': 0 valores zero\n",
      "\n",
      " 'long': 0 valores zero\n",
      "\n",
      " 'city_pop': 0 valores zero\n",
      "\n",
      " 'job': 0 valores zero\n",
      "\n",
      " 'dob': 0 valores zero\n",
      "\n",
      " 'trans_num': 0 valores zero\n",
      "\n",
      " 'unix_time': 0 valores zero\n",
      "\n",
      " 'merch_lat': 0 valores zero\n",
      "\n",
      " 'merch_long': 0 valores zero\n",
      "\n",
      " 'is_fraud': 1842743 valores zero\n"
     ]
    }
   ],
   "source": [
    "#contando a quantidade de zeros em cada coluna para verificar se elas tem \n",
    "# informacao suficiente para entrar no modelo futuramente\n",
    "\n",
    "for col in df_total.columns:\n",
    "    zero_count = (df_total[col] == 0).sum()\n",
    "    print(\"\")\n",
    "    print(f\" '{col}': {zero_count} valores zero\")\n",
    "\n",
    "    #nenhuma variavel contem valores zerados, a nao ser a variavel alvo,\n",
    "    #  e aqui ja podemos ver que se trata de um estudo de enventos raros realmente. \n",
    "\n"
   ]
  },
  {
   "cell_type": "markdown",
   "metadata": {},
   "source": [
    "# 2.1 Analisando e Descrevendo: Análise Exploratória (EDA)\n"
   ]
  },
  {
   "cell_type": "markdown",
   "metadata": {},
   "source": [
    "* Dicionario de dados e acoes previamente ja determinadas de acordo com a natureza da varivel. \n",
    "* O oficial nao foi divulgado, entao com base no nome das variaveis foi determinado: \n",
    "\n",
    "\n",
    "\n",
    "| **Nome da Variável**        | **Descrição**                                                                 | **Transformação Necessária** |\n",
    "|-----------------------------|-------------------------------------------------------------------------------|-----------------------------|\n",
    "| **trans_date_trans_time**    | Data e hora da transação (`yyyy-mm-dd hh:mm:ss`).                            | Extrair hora, dia da semana, mês, periodo da transacao etc.|\n",
    "| **cc_num** | Número do cartão de crédito utilizado na transação.<br> Pode ser útil para identificar padrões de uso suspeitos e anomalias.<br> Contudo, é um dado sensível e deve ser tratado para garantir conformidade com normas de privacidade. |  Extrair padrões relevantes, como:<br>  - Extrair primeiros dígitos (BIN) que identificam o banco das transações <br>  - Contagem de transações por cartão em um período de tempo. <br> - Contagem de vezes que o cartao foi usado|\n",
    "| **merchant**                 | Nome do comerciante.                                                          |  |\n",
    "| **category**                 | Categoria da transação (`misc_net`, `grocery_pos`, etc.).                     |  |\n",
    "| **amt**                      | Valor da transação.                                                           |  |\n",
    "| **first**                    | Primeiro nome do titular.                                                     | Remover (Irrelevante). |\n",
    "| **last**                     | Sobrenome do titular.                                                         | Remover (Irrelevante). |\n",
    "| **gender**                   | Gênero do titular (`F` ou `M`).                                               | Remover (Possível viés discriminatório).|\n",
    "| **street**                   | Endereço do titular.                                                          | Remover (Irrelevante). |\n",
    "| **city**                     | Cidade do titular.                                                            | Remover (Já há `lat` e `long`). |\n",
    "| **state**                    | Estado do titular.                                                            | Remover (Já há `lat` e `long`). |\n",
    "| **zip**                      | Código postal (CEP).                                                          | Remover (Já há `lat` e `long`). |\n",
    "| **lat**                      | Latitude da localização do titular.                                           |  |\n",
    "| **long**                     | Longitude da localização do titular.                                          |  |\n",
    "| **city_pop**                 | População da cidade do titular.                                               |  |\n",
    "| **job**                      | Profissão do titular.                                                         |  |\n",
    "| **dob**                      | Data de nascimento (`yyyy-mm-dd`).                                            | Converter para idade. |\n",
    "| **trans_num**                | Identificador único da transação.                                             | Remover (Irrelevante). |\n",
    "| **unix_time**                | Timestamp Unix (segundos desde 1970).                                         | Remover - reduntande ja temos trans_date_trans_time  |\n",
    "| **merch_lat**                | Latitude da localização do comerciante.                                       |  |\n",
    "| **merch_long**               | Longitude da localização do comerciante.                                      |  |\n",
    "| **is_fraud**                 | Indicador de fraude (`1` = fraudulenta, `0` = legítima).                      | **Variável alvo** |\n",
    "\n"
   ]
  },
  {
   "cell_type": "code",
   "execution_count": 11,
   "metadata": {},
   "outputs": [
    {
     "name": "stdout",
     "output_type": "stream",
     "text": [
      "trans_date_trans_time     object\n",
      "cc_num                     int64\n",
      "merchant                  object\n",
      "category                  object\n",
      "amt                      float64\n",
      "first                     object\n",
      "last                      object\n",
      "gender                    object\n",
      "street                    object\n",
      "city                      object\n",
      "state                     object\n",
      "zip                        int64\n",
      "lat                      float64\n",
      "long                     float64\n",
      "city_pop                   int64\n",
      "job                       object\n",
      "dob                       object\n",
      "trans_num                 object\n",
      "unix_time                  int64\n",
      "merch_lat                float64\n",
      "merch_long               float64\n",
      "is_fraud                   int64\n",
      "dtype: object\n"
     ]
    },
    {
     "data": {
      "text/html": [
       "<div>\n",
       "<style scoped>\n",
       "    .dataframe tbody tr th:only-of-type {\n",
       "        vertical-align: middle;\n",
       "    }\n",
       "\n",
       "    .dataframe tbody tr th {\n",
       "        vertical-align: top;\n",
       "    }\n",
       "\n",
       "    .dataframe thead th {\n",
       "        text-align: right;\n",
       "    }\n",
       "</style>\n",
       "<table border=\"1\" class=\"dataframe\">\n",
       "  <thead>\n",
       "    <tr style=\"text-align: right;\">\n",
       "      <th></th>\n",
       "      <th>amt</th>\n",
       "      <th>city_pop</th>\n",
       "      <th>is_fraud</th>\n",
       "    </tr>\n",
       "  </thead>\n",
       "  <tbody>\n",
       "    <tr>\n",
       "      <th>count</th>\n",
       "      <td>1852394.00</td>\n",
       "      <td>1852394.00</td>\n",
       "      <td>1852394.00</td>\n",
       "    </tr>\n",
       "    <tr>\n",
       "      <th>mean</th>\n",
       "      <td>70.06</td>\n",
       "      <td>88643.67</td>\n",
       "      <td>0.01</td>\n",
       "    </tr>\n",
       "    <tr>\n",
       "      <th>std</th>\n",
       "      <td>159.25</td>\n",
       "      <td>301487.62</td>\n",
       "      <td>0.07</td>\n",
       "    </tr>\n",
       "    <tr>\n",
       "      <th>min</th>\n",
       "      <td>1.00</td>\n",
       "      <td>23.00</td>\n",
       "      <td>0.00</td>\n",
       "    </tr>\n",
       "    <tr>\n",
       "      <th>25%</th>\n",
       "      <td>9.64</td>\n",
       "      <td>741.00</td>\n",
       "      <td>0.00</td>\n",
       "    </tr>\n",
       "    <tr>\n",
       "      <th>50%</th>\n",
       "      <td>47.45</td>\n",
       "      <td>2443.00</td>\n",
       "      <td>0.00</td>\n",
       "    </tr>\n",
       "    <tr>\n",
       "      <th>75%</th>\n",
       "      <td>83.10</td>\n",
       "      <td>20328.00</td>\n",
       "      <td>0.00</td>\n",
       "    </tr>\n",
       "    <tr>\n",
       "      <th>max</th>\n",
       "      <td>28948.90</td>\n",
       "      <td>2906700.00</td>\n",
       "      <td>1.00</td>\n",
       "    </tr>\n",
       "  </tbody>\n",
       "</table>\n",
       "</div>"
      ],
      "text/plain": [
       "             amt   city_pop   is_fraud\n",
       "count 1852394.00 1852394.00 1852394.00\n",
       "mean       70.06   88643.67       0.01\n",
       "std       159.25  301487.62       0.07\n",
       "min         1.00      23.00       0.00\n",
       "25%         9.64     741.00       0.00\n",
       "50%        47.45    2443.00       0.00\n",
       "75%        83.10   20328.00       0.00\n",
       "max     28948.90 2906700.00       1.00"
      ]
     },
     "execution_count": 11,
     "metadata": {},
     "output_type": "execute_result"
    }
   ],
   "source": [
    "print(df_total.dtypes)\n",
    "\n",
    "df_anl_num = df_total[['amt','city_pop','is_fraud']] #df so de numericas elegiveis para analise (APENAS ANALISE)\n",
    "\n",
    "pd.options.display.float_format = '{:.2f}'.format  # config 2 casas decimais para configurar o describe\n",
    "df_anl_num.describe()"
   ]
  },
  {
   "cell_type": "markdown",
   "metadata": {},
   "source": [
    "* Verificando relacao entre a variavel alvo e as variaveis explicativas numericas\n",
    "    * sem muita correlacao inicialmente "
   ]
  },
  {
   "cell_type": "code",
   "execution_count": 12,
   "metadata": {},
   "outputs": [
    {
     "data": {
      "image/png": "[encoded data removed]",
      "text/plain": [
       "<Figure size 1000x600 with 2 Axes>"
      ]
     },
     "metadata": {},
     "output_type": "display_data"
    }
   ],
   "source": [
    "# Suprimir todos os warnings\n",
    "warnings.filterwarnings(\"ignore\")\n",
    "\n",
    "# Criar a figura com 1 subgráfico (apenas o gráfico de correlação)\n",
    "fig, axes = plt.subplots(1, 1, figsize=(10, 6))\n",
    "\n",
    "# 1. Gráfico de Correlação (Matriz de Correlação)\n",
    "sns.heatmap(df_anl_num.corr(), annot=True, cmap=\"viridis\", fmt=\".2f\", ax=axes, vmin=-1, vmax=1)\n",
    "axes.set_title('Matriz de Correlação')\n",
    "\n",
    "# Ajustar o layout\n",
    "plt.tight_layout()\n",
    "plt.show()\n"
   ]
  },
  {
   "cell_type": "markdown",
   "metadata": {},
   "source": [
    "* Verificando relacao entre a variavel alvo e as variaveis explicativas categoricas (\"frequencias\")\n",
    "    * Aqui ja podemos ver como se trata de um evento raro; \n",
    "    * as cateogrias de compras (variavel category) com \"_net\" sao de transacoes de compra online, as \"_pos\" sao trasacoes de compra presenciais. Elas detem a maioria das fraudes dentre as categorias, o que é naturalmente compreensivel. "
   ]
  },
  {
   "cell_type": "code",
   "execution_count": 13,
   "metadata": {},
   "outputs": [
    {
     "data": {
      "image/png": "[encoded data removed]",
      "text/plain": [
       "<Figure size 1600x1200 with 4 Axes>"
      ]
     },
     "metadata": {},
     "output_type": "display_data"
    }
   ],
   "source": [
    "df_anl_cat = df_total[['category','gender','state','is_fraud']] #df so de categoricas elegiveis para analise (APENAS ANALISE)\n",
    "\n",
    "\n",
    "# Criar a figura com 3 subgráficos\n",
    "fig, axes = plt.subplots(2, 2, figsize=(16, 12))\n",
    "\n",
    "# 1. Gráfico de contagem para a variável 'category'\n",
    "sns.countplot(data=df_anl_cat, x='category', hue='is_fraud', ax=axes[0, 0])\n",
    "axes[0, 0].set_title('Contagem de Fraude por Categoria')\n",
    "\n",
    "# 2. Gráfico de contagem para a variável 'gender'\n",
    "sns.countplot(data=df_anl_cat, x='gender', hue='is_fraud', ax=axes[0, 1])\n",
    "axes[0, 1].set_title('Contagem de Fraude por Gênero')\n",
    "\n",
    "# 3. Gráfico de contagem para a variável 'state'\n",
    "sns.countplot(data=df_anl_cat, x='state', hue='is_fraud', ax=axes[1, 0])\n",
    "axes[1, 0].set_title('Contagem de Fraude por Estado')\n",
    "\n",
    "# Aplicar rotação de 45 graus em todos os rótulos do eixo x\n",
    "for ax in axes.flat:\n",
    "    ax.tick_params(axis='x', rotation=45)  # Rotaciona os rótulos do eixo x para 45 graus\n",
    "\n",
    "# Ajustar layout\n",
    "plt.tight_layout()\n",
    "\n",
    "# Exibir o gráfico\n",
    "plt.show()\n",
    "\n"
   ]
  },
  {
   "cell_type": "markdown",
   "metadata": {},
   "source": [
    "* Verificando a relacao entre as variaveis numericas explicativas (sem variavel alvo)\n",
    "    * Vemos um agrupamento em valores pequenos para ambas variaveis;\n",
    "    * embora a variavel alvo esteja na legenda, é meramente para vermos onde se encontrar as observacoes de fraude entre as variaveis, nao e muito conclusivo mas da uma ideia de onde se \"agrupam\" em termos de valores"
   ]
  },
  {
   "cell_type": "code",
   "execution_count": 14,
   "metadata": {},
   "outputs": [
    {
     "data": {
      "image/png": "[encoded data removed]",
      "text/plain": [
       "<Figure size 666.111x500 with 6 Axes>"
      ]
     },
     "metadata": {},
     "output_type": "display_data"
    }
   ],
   "source": [
    "# Cria o pairplot\n",
    "g = sns.pairplot(\n",
    "    df_anl_num, \n",
    "    hue='is_fraud',\n",
    "    diag_kind='kde',\n",
    "    height=2.5,\n",
    "    aspect=1.2,\n",
    "    plot_kws={'alpha': 0.3}\n",
    ")\n",
    "\n",
    "# Formata os eixos \n",
    "for ax in g.axes.flatten():\n",
    "    # Formatação(sem notação científica automatica)\n",
    "    ax.xaxis.set_major_formatter(ticker.StrMethodFormatter('{x:,.0f}'))\n",
    "    ax.yaxis.set_major_formatter(ticker.StrMethodFormatter('{x:,.0f}'))\n",
    "    \n",
    "    ax.tick_params(axis='x', rotation=45) # eixo x em 45 graus\n",
    "\n",
    "    plt.tight_layout()\n",
    "\n",
    "plt.show()"
   ]
  },
  {
   "cell_type": "markdown",
   "metadata": {},
   "source": [
    "* Verificando a relacao entre as variaveis explicativas categoricas (sem variavel alvo)\n",
    "    * Aqui verificamos se ha associacao estatistica entre as variveis cetegoricas (sem a alvo) pelo teste de Qui2\n",
    "    * Verificamos e classificamos em baixa media e alta a forca das associaicoes entre as variaveis categoricas, e plotamos os resultados pelo heatmap de V de Cramer tambem. "
   ]
  },
  {
   "cell_type": "code",
   "execution_count": 15,
   "metadata": {},
   "outputs": [
    {
     "name": "stdout",
     "output_type": "stream",
     "text": [
      "Teste Qui-Quadrado entre category e gender:\n",
      "Qui²=5407.24, p-valor=0.0000 (menor que 0.05, há evidência de associação).\n",
      "V de Cramer=0.05 (Baixa Força de associação)\n",
      "\n",
      "Teste Qui-Quadrado entre category e state:\n",
      "Qui²=9421.63, p-valor=0.0000 (menor que 0.05, há evidência de associação).\n",
      "V de Cramer=0.02 (Baixa Força de associação)\n",
      "\n",
      "Teste Qui-Quadrado entre gender e category:\n",
      "Qui²=5407.24, p-valor=0.0000 (menor que 0.05, há evidência de associação).\n",
      "V de Cramer=0.05 (Baixa Força de associação)\n",
      "\n",
      "Teste Qui-Quadrado entre gender e state:\n",
      "Qui²=121239.38, p-valor=0.0000 (menor que 0.05, há evidência de associação).\n",
      "V de Cramer=0.26 (Média Força de associação)\n",
      "\n",
      "Teste Qui-Quadrado entre state e category:\n",
      "Qui²=9421.63, p-valor=0.0000 (menor que 0.05, há evidência de associação).\n",
      "V de Cramer=0.02 (Baixa Força de associação)\n",
      "\n",
      "Teste Qui-Quadrado entre state e gender:\n",
      "Qui²=121239.38, p-valor=0.0000 (menor que 0.05, há evidência de associação).\n",
      "V de Cramer=0.26 (Média Força de associação)\n",
      "\n"
     ]
    },
    {
     "data": {
      "image/png": "[encoded data removed]",
      "text/plain": [
       "<Figure size 800x600 with 2 Axes>"
      ]
     },
     "metadata": {},
     "output_type": "display_data"
    }
   ],
   "source": [
    "# df_ de categoricas sem a variavel alvo\n",
    "df_cat = df_anl_cat[['category', 'gender', 'state']]\n",
    "\n",
    "def cramers_v(x, y):\n",
    "    \"\"\"Calcula o V de Cramer entre duas variáveis categóricas.\"\"\"\n",
    "    confusion_matrix = pd.crosstab(x, y)\n",
    "    chi2 = chi2_contingency(confusion_matrix)[0]\n",
    "    n = confusion_matrix.sum().sum()\n",
    "    phi2 = chi2 / n\n",
    "    r, k = confusion_matrix.shape\n",
    "    phi2corr = max(0, phi2 - ((k-1)*(r-1)) / (n-1))\n",
    "    rcorr = r - ((r-1)**2) / (n-1)\n",
    "    kcorr = k - ((k-1)**2) / (n-1)\n",
    "    return np.sqrt(phi2corr / min((kcorr-1), (rcorr-1)))\n",
    "\n",
    "# Função para categorizar a força do V de Cramer\n",
    "def categorize_cramers_v(value):\n",
    "    if value < 0.10:\n",
    "        return \"Baixa Força de\"\n",
    "    elif value < 0.30:\n",
    "        return \"Média Força de\"\n",
    "    else:\n",
    "        return \"Alta Força de\"\n",
    "\n",
    "# Inicializa um DataFrame para armazenar os resultados\n",
    "results = pd.DataFrame(index=df_cat.columns, columns=df_cat.columns)\n",
    "\n",
    "for col1 in df_cat.columns:\n",
    "    for col2 in df_cat.columns:\n",
    "        if col1 == col2:\n",
    "            results.loc[col1, col2] = 1.0  # Correlação perfeita com ela mesma\n",
    "        else:\n",
    "            table = pd.crosstab(df_cat[col1], df_cat[col2])\n",
    "            chi2, p, _, _ = chi2_contingency(table)\n",
    "            v_cramer = cramers_v(df_cat[col1], df_cat[col2])\n",
    "\n",
    "            # Interpretação do p-valor\n",
    "            significance = \"há evidência de associação\" if p < 0.05 else \"não há evidência de associação\"\n",
    "            \n",
    "            # Classificação da força do V de Cramer\n",
    "            strength = categorize_cramers_v(v_cramer)\n",
    "\n",
    "            print(f'Teste Qui-Quadrado entre {col1} e {col2}:')\n",
    "            print(f'Qui²={chi2:.2f}, p-valor={p:.4f} ({\"menor\" if p < 0.05 else \"maior\"} que 0.05, {significance}).')\n",
    "            print(f'V de Cramer={v_cramer:.2f} ({strength} associação)\\n')\n",
    "\n",
    "            results.loc[col1, col2] = v_cramer\n",
    "\n",
    "\n",
    "# Converte os valores para float\n",
    "results = results.astype(float)\n",
    "\n",
    "plt.figure(figsize=(8, 6))\n",
    "sns.heatmap(results, annot=True, cmap='viridis', fmt='.2f', vmin=0, vmax=1)\n",
    "plt.title('Heatmap do V de Cramer entre Variáveis Categóricas')\n",
    "plt.show()\n",
    "\n",
    "\n"
   ]
  },
  {
   "cell_type": "markdown",
   "metadata": {},
   "source": [
    "* Aqui evidencia-se o desbalance das classes da variavel alvo, trata-se de um evento raro, conforme ja haviam indicios. "
   ]
  },
  {
   "cell_type": "code",
   "execution_count": 16,
   "metadata": {},
   "outputs": [
    {
     "data": {
      "image/png": "[encoded data removed]",
      "text/plain": [
       "<Figure size 600x600 with 1 Axes>"
      ]
     },
     "metadata": {},
     "output_type": "display_data"
    }
   ],
   "source": [
    "# Contar a quantidade de cada classe\n",
    "fraud_counts = df_total[\"is_fraud\"].value_counts()\n",
    "\n",
    "# Criar o gráfico de pizza\n",
    "plt.figure(figsize=(6, 6))\n",
    "wedges, texts = plt.pie(\n",
    "    fraud_counts, labels=[\"Não Fraude\", \"Fraude\"], \n",
    "    colors=[\"green\", \"red\"], startangle=90, wedgeprops={\"edgecolor\": \"black\"}\n",
    ")\n",
    "\n",
    "# Adicionar os percentuais como rótulos ao lado das fatias\n",
    "for text, pct in zip(texts, fraud_counts / fraud_counts.sum() * 100):\n",
    "    text.set_text(f\"{text.get_text()} ({pct:.2f}%)\")\n",
    "\n",
    "# Adicionar título\n",
    "plt.title(\"Distribuição da Variável-Alvo (is_fraud)\", fontsize=14, fontweight=\"bold\")\n",
    "\n",
    "# Mostrar o gráfico\n",
    "plt.show()\n"
   ]
  },
  {
   "cell_type": "markdown",
   "metadata": {},
   "source": [
    "* Verificando localizacao das transacoes e dos titulares dos cartoes \n",
    "    * Aqui foi dado foco nos maiores ofensores de fraudes: as variaveis de compra presencial \"_pos\" e online \"_net\" pois apresentaram grande parte das fraudes \n",
    "    * Ha maior concentracao de transacoes do lado da Costa Leste \n",
    "    * Existem transacoes no Havai, Canadá e no Alasca, mas sao em pequenos volumes, ainda assim sao estranhas(principalemnte Alasca). "
   ]
  },
  {
   "cell_type": "code",
   "execution_count": 17,
   "metadata": {},
   "outputs": [
    {
     "data": {
      "application/vnd.plotly.v1+json": {
       "config": {
        "plotlyServerURL": "https://plot.ly"
       },
       "data": [
        {
         "hovertemplate": "Tipo=Estabelecimento<br>Latitude=%{lat}<br>Longitude=%{lon}<extra></extra>",
         "lat": {
          "bdata": "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",
          "dtype": "f8"
         },
         "legendgroup": "Estabelecimento",
         "lon": {
          "bdata": "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",
          "dtype": "f8"
         },
         "marker": {
          "color": "blue"
         },
         "mode": "markers",
         "name": "Estabelecimento",
         "showlegend": true,
         "subplot": "mapbox",
         "type": "scattermapbox"
        },
        {
         "hovertemplate": "Tipo=Titular<br>Latitude=%{lat}<br>Longitude=%{lon}<extra></extra>",
         "lat": {
          "bdata": "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",
          "dtype": "f8"
         },
         "legendgroup": "Titular",
         "lon": {
          "bdata": "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",
          "dtype": "f8"
         },
         "marker": {
          "color": "orange"
         },
         "mode": "markers",
         "name": "Titular",
         "showlegend": true,
         "subplot": "mapbox",
         "type": "scattermapbox"
        }
       ],
       "layout": {
        "height": 700,
        "legend": {
         "title": {
          "text": "Tipo"
         },
         "tracegroupgap": 0
        },
        "mapbox": {
         "center": {
          "lat": 38.79001067393736,
          "lon": -89.76526262136466
         },
         "domain": {
          "x": [
           0,
           1
          ],
          "y": [
           0,
           1
          ]
         },
         "style": "carto-positron",
         "zoom": 3
        },
        "margin": {
         "b": 0,
         "l": 0,
         "r": 0,
         "t": 50
        },
        "template": {
         "data": {
          "bar": [
           {
            "error_x": {
             "color": "#2a3f5f"
            },
            "error_y": {
             "color": "#2a3f5f"
            },
            "marker": {
             "line": {
              "color": "#E5ECF6",
              "width": 0.5
             },
             "pattern": {
              "fillmode": "overlay",
              "size": 10,
              "solidity": 0.2
             }
            },
            "type": "bar"
           }
          ],
          "barpolar": [
           {
            "marker": {
             "line": {
              "color": "#E5ECF6",
              "width": 0.5
             },
             "pattern": {
              "fillmode": "overlay",
              "size": 10,
              "solidity": 0.2
             }
            },
            "type": "barpolar"
           }
          ],
          "carpet": [
           {
            "aaxis": {
             "endlinecolor": "#2a3f5f",
             "gridcolor": "white",
             "linecolor": "white",
             "minorgridcolor": "white",
             "startlinecolor": "#2a3f5f"
            },
            "baxis": {
             "endlinecolor": "#2a3f5f",
             "gridcolor": "white",
             "linecolor": "white",
             "minorgridcolor": "white",
             "startlinecolor": "#2a3f5f"
            },
            "type": "carpet"
           }
          ],
          "choropleth": [
           {
            "colorbar": {
             "outlinewidth": 0,
             "ticks": ""
            },
            "type": "choropleth"
           }
          ],
          "contour": [
           {
            "colorbar": {
             "outlinewidth": 0,
             "ticks": ""
            },
            "colorscale": [
             [
              0,
              "#0d0887"
             ],
             [
              0.1111111111111111,
              "#46039f"
             ],
             [
              0.2222222222222222,
              "#7201a8"
             ],
             [
              0.3333333333333333,
              "#9c179e"
             ],
             [
              0.4444444444444444,
              "#bd3786"
             ],
             [
              0.5555555555555556,
              "#d8576b"
             ],
             [
              0.6666666666666666,
              "#ed7953"
             ],
             [
              0.7777777777777778,
              "#fb9f3a"
             ],
             [
              0.8888888888888888,
              "#fdca26"
             ],
             [
              1,
              "#f0f921"
             ]
            ],
            "type": "contour"
           }
          ],
          "contourcarpet": [
           {
            "colorbar": {
             "outlinewidth": 0,
             "ticks": ""
            },
            "type": "contourcarpet"
           }
          ],
          "heatmap": [
           {
            "colorbar": {
             "outlinewidth": 0,
             "ticks": ""
            },
            "colorscale": [
             [
              0,
              "#0d0887"
             ],
             [
              0.1111111111111111,
              "#46039f"
             ],
             [
              0.2222222222222222,
              "#7201a8"
             ],
             [
              0.3333333333333333,
              "#9c179e"
             ],
             [
              0.4444444444444444,
              "#bd3786"
             ],
             [
              0.5555555555555556,
              "#d8576b"
             ],
             [
              0.6666666666666666,
              "#ed7953"
             ],
             [
              0.7777777777777778,
              "#fb9f3a"
             ],
             [
              0.8888888888888888,
              "#fdca26"
             ],
             [
              1,
              "#f0f921"
             ]
            ],
            "type": "heatmap"
           }
          ],
          "histogram": [
           {
            "marker": {
             "pattern": {
              "fillmode": "overlay",
              "size": 10,
              "solidity": 0.2
             }
            },
            "type": "histogram"
           }
          ],
          "histogram2d": [
           {
            "colorbar": {
             "outlinewidth": 0,
             "ticks": ""
            },
            "colorscale": [
             [
              0,
              "#0d0887"
             ],
             [
              0.1111111111111111,
              "#46039f"
             ],
             [
              0.2222222222222222,
              "#7201a8"
             ],
             [
              0.3333333333333333,
              "#9c179e"
             ],
             [
              0.4444444444444444,
              "#bd3786"
             ],
             [
              0.5555555555555556,
              "#d8576b"
             ],
             [
              0.6666666666666666,
              "#ed7953"
             ],
             [
              0.7777777777777778,
              "#fb9f3a"
             ],
             [
              0.8888888888888888,
              "#fdca26"
             ],
             [
              1,
              "#f0f921"
             ]
            ],
            "type": "histogram2d"
           }
          ],
          "histogram2dcontour": [
           {
            "colorbar": {
             "outlinewidth": 0,
             "ticks": ""
            },
            "colorscale": [
             [
              0,
              "#0d0887"
             ],
             [
              0.1111111111111111,
              "#46039f"
             ],
             [
              0.2222222222222222,
              "#7201a8"
             ],
             [
              0.3333333333333333,
              "#9c179e"
             ],
             [
              0.4444444444444444,
              "#bd3786"
             ],
             [
              0.5555555555555556,
              "#d8576b"
             ],
             [
              0.6666666666666666,
              "#ed7953"
             ],
             [
              0.7777777777777778,
              "#fb9f3a"
             ],
             [
              0.8888888888888888,
              "#fdca26"
             ],
             [
              1,
              "#f0f921"
             ]
            ],
            "type": "histogram2dcontour"
           }
          ],
          "mesh3d": [
           {
            "colorbar": {
             "outlinewidth": 0,
             "ticks": ""
            },
            "type": "mesh3d"
           }
          ],
          "parcoords": [
           {
            "line": {
             "colorbar": {
              "outlinewidth": 0,
              "ticks": ""
             }
            },
            "type": "parcoords"
           }
          ],
          "pie": [
           {
            "automargin": true,
            "type": "pie"
           }
          ],
          "scatter": [
           {
            "fillpattern": {
             "fillmode": "overlay",
             "size": 10,
             "solidity": 0.2
            },
            "type": "scatter"
           }
          ],
          "scatter3d": [
           {
            "line": {
             "colorbar": {
              "outlinewidth": 0,
              "ticks": ""
             }
            },
            "marker": {
             "colorbar": {
              "outlinewidth": 0,
              "ticks": ""
             }
            },
            "type": "scatter3d"
           }
          ],
          "scattercarpet": [
           {
            "marker": {
             "colorbar": {
              "outlinewidth": 0,
              "ticks": ""
             }
            },
            "type": "scattercarpet"
           }
          ],
          "scattergeo": [
           {
            "marker": {
             "colorbar": {
              "outlinewidth": 0,
              "ticks": ""
             }
            },
            "type": "scattergeo"
           }
          ],
          "scattergl": [
           {
            "marker": {
             "colorbar": {
              "outlinewidth": 0,
              "ticks": ""
             }
            },
            "type": "scattergl"
           }
          ],
          "scattermap": [
           {
            "marker": {
             "colorbar": {
              "outlinewidth": 0,
              "ticks": ""
             }
            },
            "type": "scattermap"
           }
          ],
          "scattermapbox": [
           {
            "marker": {
             "colorbar": {
              "outlinewidth": 0,
              "ticks": ""
             }
            },
            "type": "scattermapbox"
           }
          ],
          "scatterpolar": [
           {
            "marker": {
             "colorbar": {
              "outlinewidth": 0,
              "ticks": ""
             }
            },
            "type": "scatterpolar"
           }
          ],
          "scatterpolargl": [
           {
            "marker": {
             "colorbar": {
              "outlinewidth": 0,
              "ticks": ""
             }
            },
            "type": "scatterpolargl"
           }
          ],
          "scatterternary": [
           {
            "marker": {
             "colorbar": {
              "outlinewidth": 0,
              "ticks": ""
             }
            },
            "type": "scatterternary"
           }
          ],
          "surface": [
           {
            "colorbar": {
             "outlinewidth": 0,
             "ticks": ""
            },
            "colorscale": [
             [
              0,
              "#0d0887"
             ],
             [
              0.1111111111111111,
              "#46039f"
             ],
             [
              0.2222222222222222,
              "#7201a8"
             ],
             [
              0.3333333333333333,
              "#9c179e"
             ],
             [
              0.4444444444444444,
              "#bd3786"
             ],
             [
              0.5555555555555556,
              "#d8576b"
             ],
             [
              0.6666666666666666,
              "#ed7953"
             ],
             [
              0.7777777777777778,
              "#fb9f3a"
             ],
             [
              0.8888888888888888,
              "#fdca26"
             ],
             [
              1,
              "#f0f921"
             ]
            ],
            "type": "surface"
           }
          ],
          "table": [
           {
            "cells": {
             "fill": {
              "color": "#EBF0F8"
             },
             "line": {
              "color": "white"
             }
            },
            "header": {
             "fill": {
              "color": "#C8D4E3"
             },
             "line": {
              "color": "white"
             }
            },
            "type": "table"
           }
          ]
         },
         "layout": {
          "annotationdefaults": {
           "arrowcolor": "#2a3f5f",
           "arrowhead": 0,
           "arrowwidth": 1
          },
          "autotypenumbers": "strict",
          "coloraxis": {
           "colorbar": {
            "outlinewidth": 0,
            "ticks": ""
           }
          },
          "colorscale": {
           "diverging": [
            [
             0,
             "#8e0152"
            ],
            [
             0.1,
             "#c51b7d"
            ],
            [
             0.2,
             "#de77ae"
            ],
            [
             0.3,
             "#f1b6da"
            ],
            [
             0.4,
             "#fde0ef"
            ],
            [
             0.5,
             "#f7f7f7"
            ],
            [
             0.6,
             "#e6f5d0"
            ],
            [
             0.7,
             "#b8e186"
            ],
            [
             0.8,
             "#7fbc41"
            ],
            [
             0.9,
             "#4d9221"
            ],
            [
             1,
             "#276419"
            ]
           ],
           "sequential": [
            [
             0,
             "#0d0887"
            ],
            [
             0.1111111111111111,
             "#46039f"
            ],
            [
             0.2222222222222222,
             "#7201a8"
            ],
            [
             0.3333333333333333,
             "#9c179e"
            ],
            [
             0.4444444444444444,
             "#bd3786"
            ],
            [
             0.5555555555555556,
             "#d8576b"
            ],
            [
             0.6666666666666666,
             "#ed7953"
            ],
            [
             0.7777777777777778,
             "#fb9f3a"
            ],
            [
             0.8888888888888888,
             "#fdca26"
            ],
            [
             1,
             "#f0f921"
            ]
           ],
           "sequentialminus": [
            [
             0,
             "#0d0887"
            ],
            [
             0.1111111111111111,
             "#46039f"
            ],
            [
             0.2222222222222222,
             "#7201a8"
            ],
            [
             0.3333333333333333,
             "#9c179e"
            ],
            [
             0.4444444444444444,
             "#bd3786"
            ],
            [
             0.5555555555555556,
             "#d8576b"
            ],
            [
             0.6666666666666666,
             "#ed7953"
            ],
            [
             0.7777777777777778,
             "#fb9f3a"
            ],
            [
             0.8888888888888888,
             "#fdca26"
            ],
            [
             1,
             "#f0f921"
            ]
           ]
          },
          "colorway": [
           "#636efa",
           "#EF553B",
           "#00cc96",
           "#ab63fa",
           "#FFA15A",
           "#19d3f3",
           "#FF6692",
           "#B6E880",
           "#FF97FF",
           "#FECB52"
          ],
          "font": {
           "color": "#2a3f5f"
          },
          "geo": {
           "bgcolor": "white",
           "lakecolor": "white",
           "landcolor": "#E5ECF6",
           "showlakes": true,
           "showland": true,
           "subunitcolor": "white"
          },
          "hoverlabel": {
           "align": "left"
          },
          "hovermode": "closest",
          "mapbox": {
           "style": "light"
          },
          "paper_bgcolor": "white",
          "plot_bgcolor": "#E5ECF6",
          "polar": {
           "angularaxis": {
            "gridcolor": "white",
            "linecolor": "white",
            "ticks": ""
           },
           "bgcolor": "#E5ECF6",
           "radialaxis": {
            "gridcolor": "white",
            "linecolor": "white",
            "ticks": ""
           }
          },
          "scene": {
           "xaxis": {
            "backgroundcolor": "#E5ECF6",
            "gridcolor": "white",
            "gridwidth": 2,
            "linecolor": "white",
            "showbackground": true,
            "ticks": "",
            "zerolinecolor": "white"
           },
           "yaxis": {
            "backgroundcolor": "#E5ECF6",
            "gridcolor": "white",
            "gridwidth": 2,
            "linecolor": "white",
            "showbackground": true,
            "ticks": "",
            "zerolinecolor": "white"
           },
           "zaxis": {
            "backgroundcolor": "#E5ECF6",
            "gridcolor": "white",
            "gridwidth": 2,
            "linecolor": "white",
            "showbackground": true,
            "ticks": "",
            "zerolinecolor": "white"
           }
          },
          "shapedefaults": {
           "line": {
            "color": "#2a3f5f"
           }
          },
          "ternary": {
           "aaxis": {
            "gridcolor": "white",
            "linecolor": "white",
            "ticks": ""
           },
           "baxis": {
            "gridcolor": "white",
            "linecolor": "white",
            "ticks": ""
           },
           "bgcolor": "#E5ECF6",
           "caxis": {
            "gridcolor": "white",
            "linecolor": "white",
            "ticks": ""
           }
          },
          "title": {
           "x": 0.05
          },
          "xaxis": {
           "automargin": true,
           "gridcolor": "white",
           "linecolor": "white",
           "ticks": "",
           "title": {
            "standoff": 15
           },
           "zerolinecolor": "white",
           "zerolinewidth": 2
          },
          "yaxis": {
           "automargin": true,
           "gridcolor": "white",
           "linecolor": "white",
           "ticks": "",
           "title": {
            "standoff": 15
           },
           "zerolinecolor": "white",
           "zerolinewidth": 2
          }
         }
        },
        "title": {
         "font": {
          "family": "Arial Black",
          "size": 20
         },
         "text": "AMOSTRA de Distribuição das Transações Fraudulentas ONLINE por Localização do Titular e Estabelecimento",
         "x": 0.5,
         "xanchor": "center",
         "yanchor": "top"
        },
        "width": 1700
       }
      }
     },
     "metadata": {},
     "output_type": "display_data"
    }
   ],
   "source": [
    "# Filtrar apenas transações fraudulentas E que sejam online (_net)\n",
    "df_fraude_net = df_total[(df_total[\"is_fraud\"] == 1) & (df_total[\"category\"].str.contains(\"_net\", na=False))]\n",
    "\n",
    "# Criar um DataFrame com as coordenadas SOMENTE de fraudes online\n",
    "df_mapa = pd.DataFrame({\n",
    "    \"Latitude\": list(df_fraude_net[\"lat\"]) + list(df_fraude_net[\"merch_lat\"]),\n",
    "    \"Longitude\": list(df_fraude_net[\"long\"]) + list(df_fraude_net[\"merch_long\"]),\n",
    "    \"Tipo\": [\"Titular\"] * len(df_fraude_net) + [\"Estabelecimento\"] * len(df_fraude_net)\n",
    "})\n",
    "\n",
    "# Amostrar 50% para evitar sobrecarga (ajuste conforme volume de dados)\n",
    "df_mapa_sample = df_mapa.sample(frac=0.5, random_state=42) if len(df_mapa) > 1000 else df_mapa\n",
    "\n",
    "# Criar o mapa com os pontos das fraudes online\n",
    "fig = px.scatter_mapbox(df_mapa_sample, lat=\"Latitude\", lon=\"Longitude\",\n",
    "                        color=\"Tipo\",  \n",
    "                        mapbox_style=\"carto-positron\",\n",
    "                        zoom=3, \n",
    "                        color_discrete_map={\"Titular\": \"orange\", \"Estabelecimento\": \"blue\"}  # Define cores personalizadas\n",
    "                        )\n",
    "\n",
    "# Ajustar layout com margem superior maior para exibir o título\n",
    "fig.update_layout(\n",
    "    width=1700,  \n",
    "    height=700,  \n",
    "    margin={\"r\":0, \"t\":50, \"b\":0, \"l\":0},\n",
    "    title={\n",
    "        \"text\": \"AMOSTRA de Distribuição das Transações Fraudulentas ONLINE por Localização do Titular e Estabelecimento\",\n",
    "        \"x\": 0.5,  # Centraliza o título\n",
    "        \"xanchor\": \"center\",  # Garante alinhamento centralizado\n",
    "        \"yanchor\": \"top\",\n",
    "        \"font\": {\"size\": 20, \"family\": \"Arial Black\"}  # Aumenta o tamanho e deixa em negrito\n",
    "    }\n",
    ")\n",
    "\n",
    "\n",
    "fig.show()\n"
   ]
  },
  {
   "cell_type": "code",
   "execution_count": 18,
   "metadata": {},
   "outputs": [
    {
     "data": {
      "application/vnd.plotly.v1+json": {
       "config": {
        "plotlyServerURL": "https://plot.ly"
       },
       "data": [
        {
         "hovertemplate": "Tipo=Titular<br>Latitude=%{lat}<br>Longitude=%{lon}<extra></extra>",
         "lat": {
          "bdata": "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",
          "dtype": "f8"
         },
         "legendgroup": "Titular",
         "lon": {
          "bdata": "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",
          "dtype": "f8"
         },
         "marker": {
          "color": "orange"
         },
         "mode": "markers",
         "name": "Titular",
         "showlegend": true,
         "subplot": "mapbox",
         "type": "scattermapbox"
        },
        {
         "hovertemplate": "Tipo=Estabelecimento<br>Latitude=%{lat}<br>Longitude=%{lon}<extra></extra>",
         "lat": {
          "bdata": "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",
          "dtype": "f8"
         },
         "legendgroup": "Estabelecimento",
         "lon": {
          "bdata": "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",
          "dtype": "f8"
         },
         "marker": {
          "color": "blue"
         },
         "mode": "markers",
         "name": "Estabelecimento",
         "showlegend": true,
         "subplot": "mapbox",
         "type": "scattermapbox"
        }
       ],
       "layout": {
        "height": 700,
        "legend": {
         "title": {
          "text": "Tipo"
         },
         "tracegroupgap": 0
        },
        "mapbox": {
         "center": {
          "lat": 38.67781916916251,
          "lon": -89.9405664145868
         },
         "domain": {
          "x": [
           0,
           1
          ],
          "y": [
           0,
           1
          ]
         },
         "style": "carto-positron",
         "zoom": 3
        },
        "margin": {
         "b": 0,
         "l": 0,
         "r": 0,
         "t": 50
        },
        "template": {
         "data": {
          "bar": [
           {
            "error_x": {
             "color": "#2a3f5f"
            },
            "error_y": {
             "color": "#2a3f5f"
            },
            "marker": {
             "line": {
              "color": "#E5ECF6",
              "width": 0.5
             },
             "pattern": {
              "fillmode": "overlay",
              "size": 10,
              "solidity": 0.2
             }
            },
            "type": "bar"
           }
          ],
          "barpolar": [
           {
            "marker": {
             "line": {
              "color": "#E5ECF6",
              "width": 0.5
             },
             "pattern": {
              "fillmode": "overlay",
              "size": 10,
              "solidity": 0.2
             }
            },
            "type": "barpolar"
           }
          ],
          "carpet": [
           {
            "aaxis": {
             "endlinecolor": "#2a3f5f",
             "gridcolor": "white",
             "linecolor": "white",
             "minorgridcolor": "white",
             "startlinecolor": "#2a3f5f"
            },
            "baxis": {
             "endlinecolor": "#2a3f5f",
             "gridcolor": "white",
             "linecolor": "white",
             "minorgridcolor": "white",
             "startlinecolor": "#2a3f5f"
            },
            "type": "carpet"
           }
          ],
          "choropleth": [
           {
            "colorbar": {
             "outlinewidth": 0,
             "ticks": ""
            },
            "type": "choropleth"
           }
          ],
          "contour": [
           {
            "colorbar": {
             "outlinewidth": 0,
             "ticks": ""
            },
            "colorscale": [
             [
              0,
              "#0d0887"
             ],
             [
              0.1111111111111111,
              "#46039f"
             ],
             [
              0.2222222222222222,
              "#7201a8"
             ],
             [
              0.3333333333333333,
              "#9c179e"
             ],
             [
              0.4444444444444444,
              "#bd3786"
             ],
             [
              0.5555555555555556,
              "#d8576b"
             ],
             [
              0.6666666666666666,
              "#ed7953"
             ],
             [
              0.7777777777777778,
              "#fb9f3a"
             ],
             [
              0.8888888888888888,
              "#fdca26"
             ],
             [
              1,
              "#f0f921"
             ]
            ],
            "type": "contour"
           }
          ],
          "contourcarpet": [
           {
            "colorbar": {
             "outlinewidth": 0,
             "ticks": ""
            },
            "type": "contourcarpet"
           }
          ],
          "heatmap": [
           {
            "colorbar": {
             "outlinewidth": 0,
             "ticks": ""
            },
            "colorscale": [
             [
              0,
              "#0d0887"
             ],
             [
              0.1111111111111111,
              "#46039f"
             ],
             [
              0.2222222222222222,
              "#7201a8"
             ],
             [
              0.3333333333333333,
              "#9c179e"
             ],
             [
              0.4444444444444444,
              "#bd3786"
             ],
             [
              0.5555555555555556,
              "#d8576b"
             ],
             [
              0.6666666666666666,
              "#ed7953"
             ],
             [
              0.7777777777777778,
              "#fb9f3a"
             ],
             [
              0.8888888888888888,
              "#fdca26"
             ],
             [
              1,
              "#f0f921"
             ]
            ],
            "type": "heatmap"
           }
          ],
          "histogram": [
           {
            "marker": {
             "pattern": {
              "fillmode": "overlay",
              "size": 10,
              "solidity": 0.2
             }
            },
            "type": "histogram"
           }
          ],
          "histogram2d": [
           {
            "colorbar": {
             "outlinewidth": 0,
             "ticks": ""
            },
            "colorscale": [
             [
              0,
              "#0d0887"
             ],
             [
              0.1111111111111111,
              "#46039f"
             ],
             [
              0.2222222222222222,
              "#7201a8"
             ],
             [
              0.3333333333333333,
              "#9c179e"
             ],
             [
              0.4444444444444444,
              "#bd3786"
             ],
             [
              0.5555555555555556,
              "#d8576b"
             ],
             [
              0.6666666666666666,
              "#ed7953"
             ],
             [
              0.7777777777777778,
              "#fb9f3a"
             ],
             [
              0.8888888888888888,
              "#fdca26"
             ],
             [
              1,
              "#f0f921"
             ]
            ],
            "type": "histogram2d"
           }
          ],
          "histogram2dcontour": [
           {
            "colorbar": {
             "outlinewidth": 0,
             "ticks": ""
            },
            "colorscale": [
             [
              0,
              "#0d0887"
             ],
             [
              0.1111111111111111,
              "#46039f"
             ],
             [
              0.2222222222222222,
              "#7201a8"
             ],
             [
              0.3333333333333333,
              "#9c179e"
             ],
             [
              0.4444444444444444,
              "#bd3786"
             ],
             [
              0.5555555555555556,
              "#d8576b"
             ],
             [
              0.6666666666666666,
              "#ed7953"
             ],
             [
              0.7777777777777778,
              "#fb9f3a"
             ],
             [
              0.8888888888888888,
              "#fdca26"
             ],
             [
              1,
              "#f0f921"
             ]
            ],
            "type": "histogram2dcontour"
           }
          ],
          "mesh3d": [
           {
            "colorbar": {
             "outlinewidth": 0,
             "ticks": ""
            },
            "type": "mesh3d"
           }
          ],
          "parcoords": [
           {
            "line": {
             "colorbar": {
              "outlinewidth": 0,
              "ticks": ""
             }
            },
            "type": "parcoords"
           }
          ],
          "pie": [
           {
            "automargin": true,
            "type": "pie"
           }
          ],
          "scatter": [
           {
            "fillpattern": {
             "fillmode": "overlay",
             "size": 10,
             "solidity": 0.2
            },
            "type": "scatter"
           }
          ],
          "scatter3d": [
           {
            "line": {
             "colorbar": {
              "outlinewidth": 0,
              "ticks": ""
             }
            },
            "marker": {
             "colorbar": {
              "outlinewidth": 0,
              "ticks": ""
             }
            },
            "type": "scatter3d"
           }
          ],
          "scattercarpet": [
           {
            "marker": {
             "colorbar": {
              "outlinewidth": 0,
              "ticks": ""
             }
            },
            "type": "scattercarpet"
           }
          ],
          "scattergeo": [
           {
            "marker": {
             "colorbar": {
              "outlinewidth": 0,
              "ticks": ""
             }
            },
            "type": "scattergeo"
           }
          ],
          "scattergl": [
           {
            "marker": {
             "colorbar": {
              "outlinewidth": 0,
              "ticks": ""
             }
            },
            "type": "scattergl"
           }
          ],
          "scattermap": [
           {
            "marker": {
             "colorbar": {
              "outlinewidth": 0,
              "ticks": ""
             }
            },
            "type": "scattermap"
           }
          ],
          "scattermapbox": [
           {
            "marker": {
             "colorbar": {
              "outlinewidth": 0,
              "ticks": ""
             }
            },
            "type": "scattermapbox"
           }
          ],
          "scatterpolar": [
           {
            "marker": {
             "colorbar": {
              "outlinewidth": 0,
              "ticks": ""
             }
            },
            "type": "scatterpolar"
           }
          ],
          "scatterpolargl": [
           {
            "marker": {
             "colorbar": {
              "outlinewidth": 0,
              "ticks": ""
             }
            },
            "type": "scatterpolargl"
           }
          ],
          "scatterternary": [
           {
            "marker": {
             "colorbar": {
              "outlinewidth": 0,
              "ticks": ""
             }
            },
            "type": "scatterternary"
           }
          ],
          "surface": [
           {
            "colorbar": {
             "outlinewidth": 0,
             "ticks": ""
            },
            "colorscale": [
             [
              0,
              "#0d0887"
             ],
             [
              0.1111111111111111,
              "#46039f"
             ],
             [
              0.2222222222222222,
              "#7201a8"
             ],
             [
              0.3333333333333333,
              "#9c179e"
             ],
             [
              0.4444444444444444,
              "#bd3786"
             ],
             [
              0.5555555555555556,
              "#d8576b"
             ],
             [
              0.6666666666666666,
              "#ed7953"
             ],
             [
              0.7777777777777778,
              "#fb9f3a"
             ],
             [
              0.8888888888888888,
              "#fdca26"
             ],
             [
              1,
              "#f0f921"
             ]
            ],
            "type": "surface"
           }
          ],
          "table": [
           {
            "cells": {
             "fill": {
              "color": "#EBF0F8"
             },
             "line": {
              "color": "white"
             }
            },
            "header": {
             "fill": {
              "color": "#C8D4E3"
             },
             "line": {
              "color": "white"
             }
            },
            "type": "table"
           }
          ]
         },
         "layout": {
          "annotationdefaults": {
           "arrowcolor": "#2a3f5f",
           "arrowhead": 0,
           "arrowwidth": 1
          },
          "autotypenumbers": "strict",
          "coloraxis": {
           "colorbar": {
            "outlinewidth": 0,
            "ticks": ""
           }
          },
          "colorscale": {
           "diverging": [
            [
             0,
             "#8e0152"
            ],
            [
             0.1,
             "#c51b7d"
            ],
            [
             0.2,
             "#de77ae"
            ],
            [
             0.3,
             "#f1b6da"
            ],
            [
             0.4,
             "#fde0ef"
            ],
            [
             0.5,
             "#f7f7f7"
            ],
            [
             0.6,
             "#e6f5d0"
            ],
            [
             0.7,
             "#b8e186"
            ],
            [
             0.8,
             "#7fbc41"
            ],
            [
             0.9,
             "#4d9221"
            ],
            [
             1,
             "#276419"
            ]
           ],
           "sequential": [
            [
             0,
             "#0d0887"
            ],
            [
             0.1111111111111111,
             "#46039f"
            ],
            [
             0.2222222222222222,
             "#7201a8"
            ],
            [
             0.3333333333333333,
             "#9c179e"
            ],
            [
             0.4444444444444444,
             "#bd3786"
            ],
            [
             0.5555555555555556,
             "#d8576b"
            ],
            [
             0.6666666666666666,
             "#ed7953"
            ],
            [
             0.7777777777777778,
             "#fb9f3a"
            ],
            [
             0.8888888888888888,
             "#fdca26"
            ],
            [
             1,
             "#f0f921"
            ]
           ],
           "sequentialminus": [
            [
             0,
             "#0d0887"
            ],
            [
             0.1111111111111111,
             "#46039f"
            ],
            [
             0.2222222222222222,
             "#7201a8"
            ],
            [
             0.3333333333333333,
             "#9c179e"
            ],
            [
             0.4444444444444444,
             "#bd3786"
            ],
            [
             0.5555555555555556,
             "#d8576b"
            ],
            [
             0.6666666666666666,
             "#ed7953"
            ],
            [
             0.7777777777777778,
             "#fb9f3a"
            ],
            [
             0.8888888888888888,
             "#fdca26"
            ],
            [
             1,
             "#f0f921"
            ]
           ]
          },
          "colorway": [
           "#636efa",
           "#EF553B",
           "#00cc96",
           "#ab63fa",
           "#FFA15A",
           "#19d3f3",
           "#FF6692",
           "#B6E880",
           "#FF97FF",
           "#FECB52"
          ],
          "font": {
           "color": "#2a3f5f"
          },
          "geo": {
           "bgcolor": "white",
           "lakecolor": "white",
           "landcolor": "#E5ECF6",
           "showlakes": true,
           "showland": true,
           "subunitcolor": "white"
          },
          "hoverlabel": {
           "align": "left"
          },
          "hovermode": "closest",
          "mapbox": {
           "style": "light"
          },
          "paper_bgcolor": "white",
          "plot_bgcolor": "#E5ECF6",
          "polar": {
           "angularaxis": {
            "gridcolor": "white",
            "linecolor": "white",
            "ticks": ""
           },
           "bgcolor": "#E5ECF6",
           "radialaxis": {
            "gridcolor": "white",
            "linecolor": "white",
            "ticks": ""
           }
          },
          "scene": {
           "xaxis": {
            "backgroundcolor": "#E5ECF6",
            "gridcolor": "white",
            "gridwidth": 2,
            "linecolor": "white",
            "showbackground": true,
            "ticks": "",
            "zerolinecolor": "white"
           },
           "yaxis": {
            "backgroundcolor": "#E5ECF6",
            "gridcolor": "white",
            "gridwidth": 2,
            "linecolor": "white",
            "showbackground": true,
            "ticks": "",
            "zerolinecolor": "white"
           },
           "zaxis": {
            "backgroundcolor": "#E5ECF6",
            "gridcolor": "white",
            "gridwidth": 2,
            "linecolor": "white",
            "showbackground": true,
            "ticks": "",
            "zerolinecolor": "white"
           }
          },
          "shapedefaults": {
           "line": {
            "color": "#2a3f5f"
           }
          },
          "ternary": {
           "aaxis": {
            "gridcolor": "white",
            "linecolor": "white",
            "ticks": ""
           },
           "baxis": {
            "gridcolor": "white",
            "linecolor": "white",
            "ticks": ""
           },
           "bgcolor": "#E5ECF6",
           "caxis": {
            "gridcolor": "white",
            "linecolor": "white",
            "ticks": ""
           }
          },
          "title": {
           "x": 0.05
          },
          "xaxis": {
           "automargin": true,
           "gridcolor": "white",
           "linecolor": "white",
           "ticks": "",
           "title": {
            "standoff": 15
           },
           "zerolinecolor": "white",
           "zerolinewidth": 2
          },
          "yaxis": {
           "automargin": true,
           "gridcolor": "white",
           "linecolor": "white",
           "ticks": "",
           "title": {
            "standoff": 15
           },
           "zerolinecolor": "white",
           "zerolinewidth": 2
          }
         }
        },
        "title": {
         "font": {
          "family": "Arial Black",
          "size": 20
         },
         "text": "AMOSTRA de Distribuição das Transações Fraudulentas PRESENCIAIS por Localização do Titular e Estabelecimento",
         "x": 0.5,
         "xanchor": "center",
         "yanchor": "top"
        },
        "width": 1700
       }
      }
     },
     "metadata": {},
     "output_type": "display_data"
    }
   ],
   "source": [
    "# Filtrar apenas transações fraudulentas E que sejam presenciais (_pos)\n",
    "df_fraude_net = df_total[(df_total[\"is_fraud\"] == 1) & (df_total[\"category\"].str.contains(\"_pos\", na=False))]\n",
    "\n",
    "# Criar um DataFrame com as coordenadas SOMENTE de fraudes presenciais\n",
    "df_mapa = pd.DataFrame({\n",
    "    \"Latitude\": list(df_fraude_net[\"lat\"]) + list(df_fraude_net[\"merch_lat\"]),\n",
    "    \"Longitude\": list(df_fraude_net[\"long\"]) + list(df_fraude_net[\"merch_long\"]),\n",
    "    \"Tipo\": [\"Titular\"] * len(df_fraude_net) + [\"Estabelecimento\"] * len(df_fraude_net)\n",
    "})\n",
    "\n",
    "# Amostrar 50% para evitar sobrecarga (ajuste conforme volume de dados)\n",
    "df_mapa_sample = df_mapa.sample(frac=0.5, random_state=42) if len(df_mapa) > 1000 else df_mapa\n",
    "\n",
    "# Criar o mapa com os pontos das fraudes presenciais, definindo cores específicas\n",
    "fig = px.scatter_mapbox(df_mapa_sample, lat=\"Latitude\", lon=\"Longitude\",\n",
    "                        color=\"Tipo\",  \n",
    "                        mapbox_style=\"carto-positron\",\n",
    "                        zoom=3,\n",
    "                        color_discrete_map={\"Titular\": \"orange\", \"Estabelecimento\": \"blue\"}  # Define cores personalizadas\n",
    ")\n",
    "\n",
    "# Ajustar layout\n",
    "fig.update_layout(\n",
    "    width=1700,  \n",
    "    height=700,  \n",
    "    margin={\"r\":0, \"t\":50, \"b\":0, \"l\":0},\n",
    "    title={\n",
    "        \"text\": \"AMOSTRA de Distribuição das Transações Fraudulentas PRESENCIAIS por Localização do Titular e Estabelecimento\",\n",
    "        \"x\": 0.5,  \n",
    "        \"xanchor\": \"center\",  \n",
    "        \"yanchor\": \"top\",\n",
    "        \"font\": {\"size\": 20, \"family\": \"Arial Black\"}  \n",
    "    }\n",
    ")\n",
    "\n",
    "fig.show()\n"
   ]
  },
  {
   "cell_type": "markdown",
   "metadata": {},
   "source": [
    "# 3 Preparação dos Dados: Feature Engineering\n",
    "\n",
    "\n",
    "* estudar a criacao de uma variavel que identifica a distancia (se e anormal) entre duas transacoes, acho que usar o racional da variavel de contagem de vezes que o cartao foi usado na ultima hora (trans_count_last_hour) \n",
    "ex: uma transacao feita presencialemnte seguida de outra presencialmente em locais muito distantes em 1 hora (ou outro periodo se for o caso) podem indicar uma possivel fraude"
   ]
  },
  {
   "cell_type": "markdown",
   "metadata": {},
   "source": []
  },
  {
   "cell_type": "markdown",
   "metadata": {},
   "source": [
    "* criando variavel de distancia em Km entre estabeleciemnto e titular do cartao para compras presencias. \n",
    "    * Foi usada a distância entre os pontos pela fórmula de Haversine, pois ela considera a curvatura da Terra e retorna a distância real em km, diferentemente da Euclidiana, que assume um espaço plano (2D) e não converte diretamente em quilômetros."
   ]
  },
  {
   "cell_type": "code",
   "execution_count": 19,
   "metadata": {},
   "outputs": [],
   "source": [
    "# Função para remover variáveis desnecessarias\n",
    "def Limpa_df(df, colunas_para_excluir):\n",
    "    df = df.drop(columns=colunas_para_excluir, errors='ignore')  # ignora colunas que não existem\n",
    "    #df = df.dropna()  # remove linhas com valores ausentes\n",
    "    return df\n",
    "\n",
    "\n",
    "\n",
    "\n",
    "def mover_target_para_final(df, target):\n",
    "    \"\"\"\n",
    "    Move a variavel alvo para o final do df\n",
    "\n",
    "    Isso nao interfere em resultados, e para manter o padrao de legibilidade e facilitar a visualizacao da target\n",
    "    \"\"\"\n",
    "    colunas = [col for col in df.columns if col != target] + [target]\n",
    "    return df[colunas]\n",
    "\n"
   ]
  },
  {
   "cell_type": "code",
   "execution_count": 20,
   "metadata": {},
   "outputs": [
    {
     "data": {
      "text/html": [
       "<div>\n",
       "<style scoped>\n",
       "    .dataframe tbody tr th:only-of-type {\n",
       "        vertical-align: middle;\n",
       "    }\n",
       "\n",
       "    .dataframe tbody tr th {\n",
       "        vertical-align: top;\n",
       "    }\n",
       "\n",
       "    .dataframe thead th {\n",
       "        text-align: right;\n",
       "    }\n",
       "</style>\n",
       "<table border=\"1\" class=\"dataframe\">\n",
       "  <thead>\n",
       "    <tr style=\"text-align: right;\">\n",
       "      <th></th>\n",
       "      <th>trans_date_trans_time</th>\n",
       "      <th>cc_num</th>\n",
       "      <th>merchant</th>\n",
       "      <th>category</th>\n",
       "      <th>amt</th>\n",
       "      <th>first</th>\n",
       "      <th>last</th>\n",
       "      <th>gender</th>\n",
       "      <th>street</th>\n",
       "      <th>city</th>\n",
       "      <th>state</th>\n",
       "      <th>zip</th>\n",
       "      <th>lat</th>\n",
       "      <th>long</th>\n",
       "      <th>city_pop</th>\n",
       "      <th>job</th>\n",
       "      <th>dob</th>\n",
       "      <th>trans_num</th>\n",
       "      <th>unix_time</th>\n",
       "      <th>merch_lat</th>\n",
       "      <th>merch_long</th>\n",
       "      <th>is_fraud</th>\n",
       "      <th>distancia_km</th>\n",
       "    </tr>\n",
       "  </thead>\n",
       "  <tbody>\n",
       "    <tr>\n",
       "      <th>0</th>\n",
       "      <td>2019-01-01 00:00:18</td>\n",
       "      <td>2703186189652095</td>\n",
       "      <td>fraud_Rippin, Kub and Mann</td>\n",
       "      <td>misc_net</td>\n",
       "      <td>4.97</td>\n",
       "      <td>Jennifer</td>\n",
       "      <td>Banks</td>\n",
       "      <td>F</td>\n",
       "      <td>561 Perry Cove</td>\n",
       "      <td>Moravian Falls</td>\n",
       "      <td>NC</td>\n",
       "      <td>28654</td>\n",
       "      <td>36.08</td>\n",
       "      <td>-81.18</td>\n",
       "      <td>3495</td>\n",
       "      <td>Psychologist, counselling</td>\n",
       "      <td>1988-03-09</td>\n",
       "      <td>0b242abb623afc578575680df30655b9</td>\n",
       "      <td>1325376018</td>\n",
       "      <td>36.01</td>\n",
       "      <td>-82.05</td>\n",
       "      <td>0</td>\n",
       "      <td>0.00</td>\n",
       "    </tr>\n",
       "    <tr>\n",
       "      <th>1</th>\n",
       "      <td>2019-01-01 00:00:44</td>\n",
       "      <td>630423337322</td>\n",
       "      <td>fraud_Heller, Gutmann and Zieme</td>\n",
       "      <td>grocery_pos</td>\n",
       "      <td>107.23</td>\n",
       "      <td>Stephanie</td>\n",
       "      <td>Gill</td>\n",
       "      <td>F</td>\n",
       "      <td>43039 Riley Greens Suite 393</td>\n",
       "      <td>Orient</td>\n",
       "      <td>WA</td>\n",
       "      <td>99160</td>\n",
       "      <td>48.89</td>\n",
       "      <td>-118.21</td>\n",
       "      <td>149</td>\n",
       "      <td>Special educational needs teacher</td>\n",
       "      <td>1978-06-21</td>\n",
       "      <td>1f76529f8574734946361c461b024d99</td>\n",
       "      <td>1325376044</td>\n",
       "      <td>49.16</td>\n",
       "      <td>-118.19</td>\n",
       "      <td>0</td>\n",
       "      <td>30.21</td>\n",
       "    </tr>\n",
       "    <tr>\n",
       "      <th>2</th>\n",
       "      <td>2019-01-01 00:00:51</td>\n",
       "      <td>38859492057661</td>\n",
       "      <td>fraud_Lind-Buckridge</td>\n",
       "      <td>entertainment</td>\n",
       "      <td>220.11</td>\n",
       "      <td>Edward</td>\n",
       "      <td>Sanchez</td>\n",
       "      <td>M</td>\n",
       "      <td>594 White Dale Suite 530</td>\n",
       "      <td>Malad City</td>\n",
       "      <td>ID</td>\n",
       "      <td>83252</td>\n",
       "      <td>42.18</td>\n",
       "      <td>-112.26</td>\n",
       "      <td>4154</td>\n",
       "      <td>Nature conservation officer</td>\n",
       "      <td>1962-01-19</td>\n",
       "      <td>a1a22d70485983eac12b5b88dad1cf95</td>\n",
       "      <td>1325376051</td>\n",
       "      <td>43.15</td>\n",
       "      <td>-112.15</td>\n",
       "      <td>0</td>\n",
       "      <td>0.00</td>\n",
       "    </tr>\n",
       "    <tr>\n",
       "      <th>3</th>\n",
       "      <td>2019-01-01 00:01:16</td>\n",
       "      <td>3534093764340240</td>\n",
       "      <td>fraud_Kutch, Hermiston and Farrell</td>\n",
       "      <td>gas_transport</td>\n",
       "      <td>45.00</td>\n",
       "      <td>Jeremy</td>\n",
       "      <td>White</td>\n",
       "      <td>M</td>\n",
       "      <td>9443 Cynthia Court Apt. 038</td>\n",
       "      <td>Boulder</td>\n",
       "      <td>MT</td>\n",
       "      <td>59632</td>\n",
       "      <td>46.23</td>\n",
       "      <td>-112.11</td>\n",
       "      <td>1939</td>\n",
       "      <td>Patent attorney</td>\n",
       "      <td>1967-01-12</td>\n",
       "      <td>6b849c168bdad6f867558c3793159a81</td>\n",
       "      <td>1325376076</td>\n",
       "      <td>47.03</td>\n",
       "      <td>-112.56</td>\n",
       "      <td>0</td>\n",
       "      <td>95.67</td>\n",
       "    </tr>\n",
       "    <tr>\n",
       "      <th>4</th>\n",
       "      <td>2019-01-01 00:03:06</td>\n",
       "      <td>375534208663984</td>\n",
       "      <td>fraud_Keeling-Crist</td>\n",
       "      <td>misc_pos</td>\n",
       "      <td>41.96</td>\n",
       "      <td>Tyler</td>\n",
       "      <td>Garcia</td>\n",
       "      <td>M</td>\n",
       "      <td>408 Bradley Rest</td>\n",
       "      <td>Doe Hill</td>\n",
       "      <td>VA</td>\n",
       "      <td>24433</td>\n",
       "      <td>38.42</td>\n",
       "      <td>-79.46</td>\n",
       "      <td>99</td>\n",
       "      <td>Dance movement psychotherapist</td>\n",
       "      <td>1986-03-28</td>\n",
       "      <td>a41d7549acf90789359a9aa5346dcb46</td>\n",
       "      <td>1325376186</td>\n",
       "      <td>38.67</td>\n",
       "      <td>-78.63</td>\n",
       "      <td>0</td>\n",
       "      <td>77.56</td>\n",
       "    </tr>\n",
       "    <tr>\n",
       "      <th>5</th>\n",
       "      <td>2019-01-01 00:04:08</td>\n",
       "      <td>4767265376804500</td>\n",
       "      <td>fraud_Stroman, Hudson and Erdman</td>\n",
       "      <td>gas_transport</td>\n",
       "      <td>94.63</td>\n",
       "      <td>Jennifer</td>\n",
       "      <td>Conner</td>\n",
       "      <td>F</td>\n",
       "      <td>4655 David Island</td>\n",
       "      <td>Dublin</td>\n",
       "      <td>PA</td>\n",
       "      <td>18917</td>\n",
       "      <td>40.38</td>\n",
       "      <td>-75.20</td>\n",
       "      <td>2158</td>\n",
       "      <td>Transport planner</td>\n",
       "      <td>1961-06-19</td>\n",
       "      <td>189a841a0a8ba03058526bcfe566aab5</td>\n",
       "      <td>1325376248</td>\n",
       "      <td>40.65</td>\n",
       "      <td>-76.15</td>\n",
       "      <td>0</td>\n",
       "      <td>85.92</td>\n",
       "    </tr>\n",
       "    <tr>\n",
       "      <th>6</th>\n",
       "      <td>2019-01-01 00:04:42</td>\n",
       "      <td>30074693890476</td>\n",
       "      <td>fraud_Rowe-Vandervort</td>\n",
       "      <td>grocery_net</td>\n",
       "      <td>44.54</td>\n",
       "      <td>Kelsey</td>\n",
       "      <td>Richards</td>\n",
       "      <td>F</td>\n",
       "      <td>889 Sarah Station Suite 624</td>\n",
       "      <td>Holcomb</td>\n",
       "      <td>KS</td>\n",
       "      <td>67851</td>\n",
       "      <td>37.99</td>\n",
       "      <td>-100.99</td>\n",
       "      <td>2691</td>\n",
       "      <td>Arboriculturist</td>\n",
       "      <td>1993-08-16</td>\n",
       "      <td>83ec1cc84142af6e2acf10c44949e720</td>\n",
       "      <td>1325376282</td>\n",
       "      <td>37.16</td>\n",
       "      <td>-100.15</td>\n",
       "      <td>0</td>\n",
       "      <td>0.00</td>\n",
       "    </tr>\n",
       "    <tr>\n",
       "      <th>7</th>\n",
       "      <td>2019-01-01 00:05:08</td>\n",
       "      <td>6011360759745864</td>\n",
       "      <td>fraud_Corwin-Collins</td>\n",
       "      <td>gas_transport</td>\n",
       "      <td>71.65</td>\n",
       "      <td>Steven</td>\n",
       "      <td>Williams</td>\n",
       "      <td>M</td>\n",
       "      <td>231 Flores Pass Suite 720</td>\n",
       "      <td>Edinburg</td>\n",
       "      <td>VA</td>\n",
       "      <td>22824</td>\n",
       "      <td>38.84</td>\n",
       "      <td>-78.60</td>\n",
       "      <td>6018</td>\n",
       "      <td>Designer, multimedia</td>\n",
       "      <td>1947-08-21</td>\n",
       "      <td>6d294ed2cc447d2c71c7171a3d54967c</td>\n",
       "      <td>1325376308</td>\n",
       "      <td>38.95</td>\n",
       "      <td>-78.54</td>\n",
       "      <td>0</td>\n",
       "      <td>12.77</td>\n",
       "    </tr>\n",
       "    <tr>\n",
       "      <th>8</th>\n",
       "      <td>2019-01-01 00:05:18</td>\n",
       "      <td>4922710831011201</td>\n",
       "      <td>fraud_Herzog Ltd</td>\n",
       "      <td>misc_pos</td>\n",
       "      <td>4.27</td>\n",
       "      <td>Heather</td>\n",
       "      <td>Chase</td>\n",
       "      <td>F</td>\n",
       "      <td>6888 Hicks Stream Suite 954</td>\n",
       "      <td>Manor</td>\n",
       "      <td>PA</td>\n",
       "      <td>15665</td>\n",
       "      <td>40.34</td>\n",
       "      <td>-79.66</td>\n",
       "      <td>1472</td>\n",
       "      <td>Public affairs consultant</td>\n",
       "      <td>1941-03-07</td>\n",
       "      <td>fc28024ce480f8ef21a32d64c93a29f5</td>\n",
       "      <td>1325376318</td>\n",
       "      <td>40.35</td>\n",
       "      <td>-79.96</td>\n",
       "      <td>0</td>\n",
       "      <td>25.27</td>\n",
       "    </tr>\n",
       "    <tr>\n",
       "      <th>9</th>\n",
       "      <td>2019-01-01 00:06:01</td>\n",
       "      <td>2720830304681674</td>\n",
       "      <td>fraud_Schoen, Kuphal and Nitzsche</td>\n",
       "      <td>grocery_pos</td>\n",
       "      <td>198.39</td>\n",
       "      <td>Melissa</td>\n",
       "      <td>Aguilar</td>\n",
       "      <td>F</td>\n",
       "      <td>21326 Taylor Squares Suite 708</td>\n",
       "      <td>Clarksville</td>\n",
       "      <td>TN</td>\n",
       "      <td>37040</td>\n",
       "      <td>36.52</td>\n",
       "      <td>-87.35</td>\n",
       "      <td>151785</td>\n",
       "      <td>Pathologist</td>\n",
       "      <td>1974-03-28</td>\n",
       "      <td>3b9014ea8fb80bd65de0b1463b00b00e</td>\n",
       "      <td>1325376361</td>\n",
       "      <td>37.18</td>\n",
       "      <td>-87.49</td>\n",
       "      <td>0</td>\n",
       "      <td>74.08</td>\n",
       "    </tr>\n",
       "  </tbody>\n",
       "</table>\n",
       "</div>"
      ],
      "text/plain": [
       "  trans_date_trans_time            cc_num                            merchant       category    amt      first      last gender                          street            city state    zip   lat    long  city_pop                                job         dob                         trans_num   unix_time  merch_lat  merch_long  is_fraud  distancia_km\n",
       "0   2019-01-01 00:00:18  2703186189652095          fraud_Rippin, Kub and Mann       misc_net   4.97   Jennifer     Banks      F                  561 Perry Cove  Moravian Falls    NC  28654 36.08  -81.18      3495          Psychologist, counselling  1988-03-09  0b242abb623afc578575680df30655b9  1325376018      36.01      -82.05         0          0.00\n",
       "1   2019-01-01 00:00:44      630423337322     fraud_Heller, Gutmann and Zieme    grocery_pos 107.23  Stephanie      Gill      F    43039 Riley Greens Suite 393          Orient    WA  99160 48.89 -118.21       149  Special educational needs teacher  1978-06-21  1f76529f8574734946361c461b024d99  1325376044      49.16     -118.19         0         30.21\n",
       "2   2019-01-01 00:00:51    38859492057661                fraud_Lind-Buckridge  entertainment 220.11     Edward   Sanchez      M        594 White Dale Suite 530      Malad City    ID  83252 42.18 -112.26      4154        Nature conservation officer  1962-01-19  a1a22d70485983eac12b5b88dad1cf95  1325376051      43.15     -112.15         0          0.00\n",
       "3   2019-01-01 00:01:16  3534093764340240  fraud_Kutch, Hermiston and Farrell  gas_transport  45.00     Jeremy     White      M     9443 Cynthia Court Apt. 038         Boulder    MT  59632 46.23 -112.11      1939                    Patent attorney  1967-01-12  6b849c168bdad6f867558c3793159a81  1325376076      47.03     -112.56         0         95.67\n",
       "4   2019-01-01 00:03:06   375534208663984                 fraud_Keeling-Crist       misc_pos  41.96      Tyler    Garcia      M                408 Bradley Rest        Doe Hill    VA  24433 38.42  -79.46        99     Dance movement psychotherapist  1986-03-28  a41d7549acf90789359a9aa5346dcb46  1325376186      38.67      -78.63         0         77.56\n",
       "5   2019-01-01 00:04:08  4767265376804500    fraud_Stroman, Hudson and Erdman  gas_transport  94.63   Jennifer    Conner      F               4655 David Island          Dublin    PA  18917 40.38  -75.20      2158                  Transport planner  1961-06-19  189a841a0a8ba03058526bcfe566aab5  1325376248      40.65      -76.15         0         85.92\n",
       "6   2019-01-01 00:04:42    30074693890476               fraud_Rowe-Vandervort    grocery_net  44.54     Kelsey  Richards      F     889 Sarah Station Suite 624         Holcomb    KS  67851 37.99 -100.99      2691                    Arboriculturist  1993-08-16  83ec1cc84142af6e2acf10c44949e720  1325376282      37.16     -100.15         0          0.00\n",
       "7   2019-01-01 00:05:08  6011360759745864                fraud_Corwin-Collins  gas_transport  71.65     Steven  Williams      M       231 Flores Pass Suite 720        Edinburg    VA  22824 38.84  -78.60      6018               Designer, multimedia  1947-08-21  6d294ed2cc447d2c71c7171a3d54967c  1325376308      38.95      -78.54         0         12.77\n",
       "8   2019-01-01 00:05:18  4922710831011201                    fraud_Herzog Ltd       misc_pos   4.27    Heather     Chase      F     6888 Hicks Stream Suite 954           Manor    PA  15665 40.34  -79.66      1472          Public affairs consultant  1941-03-07  fc28024ce480f8ef21a32d64c93a29f5  1325376318      40.35      -79.96         0         25.27\n",
       "9   2019-01-01 00:06:01  2720830304681674   fraud_Schoen, Kuphal and Nitzsche    grocery_pos 198.39    Melissa   Aguilar      F  21326 Taylor Squares Suite 708     Clarksville    TN  37040 36.52  -87.35    151785                        Pathologist  1974-03-28  3b9014ea8fb80bd65de0b1463b00b00e  1325376361      37.18      -87.49         0         74.08"
      ]
     },
     "execution_count": 20,
     "metadata": {},
     "output_type": "execute_result"
    }
   ],
   "source": [
    "# criando variavel de distancia em Km entre estabeleciemnto e titular do cartao para compras presencias (nao faz sentido para compras online que podem e muito provavlemente sera, bem distantes)\n",
    "#essa variavel permitira entender se a compra presencial foi muito distante do local do titular do cartao, podendo indicar possivel fraude, isso sera estudado\n",
    "\n",
    "\n",
    "# Definindo as categorias presenciais\n",
    "categorias_presenciais = [\n",
    "    \"misc_pos\", \"grocery_pos\", \"gas_transport\", \n",
    "    \"shopping_pos\", \"personal_care\", \"health_fitness\"\n",
    "]\n",
    "\n",
    "\n",
    "# Função para calcular distância Haversine em KM\n",
    "def haversine(lat1, lon1, lat2, lon2):\n",
    "    R = 6371  # Raio médio da Terra em km\n",
    "    phi1, phi2 = np.radians(lat1), np.radians(lat2)\n",
    "    delta_phi = np.radians(lat2 - lat1)\n",
    "    delta_lambda = np.radians(lon2 - lon1)\n",
    "\n",
    "    a = np.sin(delta_phi / 2.0)**2 + np.cos(phi1) * np.cos(phi2) * np.sin(delta_lambda / 2.0)**2\n",
    "    c = 2 * np.arcsin(np.sqrt(a))\n",
    "    return R * c\n",
    "\n",
    "# Aplicar linha a linha\n",
    "df_total[\"distancia_km\"] = df_total.apply(\n",
    "    lambda row: haversine(row[\"lat\"], row[\"long\"], row[\"merch_lat\"], row[\"merch_long\"])\n",
    "    if row[\"category\"] in categorias_presenciais else np.nan,\n",
    "    axis=1\n",
    ")\n",
    "\n",
    "#trata NAN \n",
    "df_total[\"distancia_km\"] = df_total[\"distancia_km\"].fillna(0)\n",
    "\n",
    "\n",
    "df_total.head(10)\n",
    "\n",
    "\n",
    "\n"
   ]
  },
  {
   "cell_type": "markdown",
   "metadata": {},
   "source": [
    "* Testando a distancia entre as variaveis em um mapa \n",
    "    * sugiro conferir em https://www.movable-type.co.uk/scripts/latlong.html tambem, para ter cereteza da logica de Haversine implantada (comparar os resultados da variavel de distancia pegando as coord e jogando la)"
   ]
  },
  {
   "cell_type": "code",
   "execution_count": 21,
   "metadata": {},
   "outputs": [
    {
     "data": {
      "application/vnd.plotly.v1+json": {
       "config": {
        "plotlyServerURL": "https://plot.ly"
       },
       "data": [
        {
         "lat": {
          "bdata": "kzoBTYQdR0CXHk31ZIRHQA==",
          "dtype": "f8"
         },
         "lon": {
          "bdata": "OpLLf0gHXMD67laW6CNcwA==",
          "dtype": "f8"
         },
         "marker": {
          "color": [
           "purple",
           "blue"
          ],
          "size": 12
         },
         "mode": "markers+text",
         "name": "Pontos",
         "text": [
          "Titular",
          "Estabelecimento"
         ],
         "textposition": "top center",
         "type": "scattermapbox"
        },
        {
         "lat": [
          46.2306,
          47.034331
         ],
         "line": {
          "color": "gray",
          "width": 2
         },
         "lon": [
          -112.1138,
          -112.561071
         ],
         "mode": "lines",
         "name": "Distância reta",
         "type": "scattermapbox"
        },
        {
         "lat": [
          46.6324655
         ],
         "lon": [
          -112.3374355
         ],
         "marker": {
          "color": "white",
          "size": 1
         },
         "mode": "markers+text",
         "showlegend": false,
         "text": [
          "95.67 km"
         ],
         "textfont": {
          "color": "black",
          "size": 14
         },
         "textposition": "top center",
         "type": "scattermapbox"
        }
       ],
       "layout": {
        "height": 500,
        "mapbox": {
         "center": {
          "lat": 46.6324655,
          "lon": -112.3374355
         },
         "style": "carto-positron",
         "zoom": 3
        },
        "margin": {
         "b": 0,
         "l": 0,
         "r": 0,
         "t": 0
        },
        "template": {
         "data": {
          "bar": [
           {
            "error_x": {
             "color": "#2a3f5f"
            },
            "error_y": {
             "color": "#2a3f5f"
            },
            "marker": {
             "line": {
              "color": "#E5ECF6",
              "width": 0.5
             },
             "pattern": {
              "fillmode": "overlay",
              "size": 10,
              "solidity": 0.2
             }
            },
            "type": "bar"
           }
          ],
          "barpolar": [
           {
            "marker": {
             "line": {
              "color": "#E5ECF6",
              "width": 0.5
             },
             "pattern": {
              "fillmode": "overlay",
              "size": 10,
              "solidity": 0.2
             }
            },
            "type": "barpolar"
           }
          ],
          "carpet": [
           {
            "aaxis": {
             "endlinecolor": "#2a3f5f",
             "gridcolor": "white",
             "linecolor": "white",
             "minorgridcolor": "white",
             "startlinecolor": "#2a3f5f"
            },
            "baxis": {
             "endlinecolor": "#2a3f5f",
             "gridcolor": "white",
             "linecolor": "white",
             "minorgridcolor": "white",
             "startlinecolor": "#2a3f5f"
            },
            "type": "carpet"
           }
          ],
          "choropleth": [
           {
            "colorbar": {
             "outlinewidth": 0,
             "ticks": ""
            },
            "type": "choropleth"
           }
          ],
          "contour": [
           {
            "colorbar": {
             "outlinewidth": 0,
             "ticks": ""
            },
            "colorscale": [
             [
              0,
              "#0d0887"
             ],
             [
              0.1111111111111111,
              "#46039f"
             ],
             [
              0.2222222222222222,
              "#7201a8"
             ],
             [
              0.3333333333333333,
              "#9c179e"
             ],
             [
              0.4444444444444444,
              "#bd3786"
             ],
             [
              0.5555555555555556,
              "#d8576b"
             ],
             [
              0.6666666666666666,
              "#ed7953"
             ],
             [
              0.7777777777777778,
              "#fb9f3a"
             ],
             [
              0.8888888888888888,
              "#fdca26"
             ],
             [
              1,
              "#f0f921"
             ]
            ],
            "type": "contour"
           }
          ],
          "contourcarpet": [
           {
            "colorbar": {
             "outlinewidth": 0,
             "ticks": ""
            },
            "type": "contourcarpet"
           }
          ],
          "heatmap": [
           {
            "colorbar": {
             "outlinewidth": 0,
             "ticks": ""
            },
            "colorscale": [
             [
              0,
              "#0d0887"
             ],
             [
              0.1111111111111111,
              "#46039f"
             ],
             [
              0.2222222222222222,
              "#7201a8"
             ],
             [
              0.3333333333333333,
              "#9c179e"
             ],
             [
              0.4444444444444444,
              "#bd3786"
             ],
             [
              0.5555555555555556,
              "#d8576b"
             ],
             [
              0.6666666666666666,
              "#ed7953"
             ],
             [
              0.7777777777777778,
              "#fb9f3a"
             ],
             [
              0.8888888888888888,
              "#fdca26"
             ],
             [
              1,
              "#f0f921"
             ]
            ],
            "type": "heatmap"
           }
          ],
          "histogram": [
           {
            "marker": {
             "pattern": {
              "fillmode": "overlay",
              "size": 10,
              "solidity": 0.2
             }
            },
            "type": "histogram"
           }
          ],
          "histogram2d": [
           {
            "colorbar": {
             "outlinewidth": 0,
             "ticks": ""
            },
            "colorscale": [
             [
              0,
              "#0d0887"
             ],
             [
              0.1111111111111111,
              "#46039f"
             ],
             [
              0.2222222222222222,
              "#7201a8"
             ],
             [
              0.3333333333333333,
              "#9c179e"
             ],
             [
              0.4444444444444444,
              "#bd3786"
             ],
             [
              0.5555555555555556,
              "#d8576b"
             ],
             [
              0.6666666666666666,
              "#ed7953"
             ],
             [
              0.7777777777777778,
              "#fb9f3a"
             ],
             [
              0.8888888888888888,
              "#fdca26"
             ],
             [
              1,
              "#f0f921"
             ]
            ],
            "type": "histogram2d"
           }
          ],
          "histogram2dcontour": [
           {
            "colorbar": {
             "outlinewidth": 0,
             "ticks": ""
            },
            "colorscale": [
             [
              0,
              "#0d0887"
             ],
             [
              0.1111111111111111,
              "#46039f"
             ],
             [
              0.2222222222222222,
              "#7201a8"
             ],
             [
              0.3333333333333333,
              "#9c179e"
             ],
             [
              0.4444444444444444,
              "#bd3786"
             ],
             [
              0.5555555555555556,
              "#d8576b"
             ],
             [
              0.6666666666666666,
              "#ed7953"
             ],
             [
              0.7777777777777778,
              "#fb9f3a"
             ],
             [
              0.8888888888888888,
              "#fdca26"
             ],
             [
              1,
              "#f0f921"
             ]
            ],
            "type": "histogram2dcontour"
           }
          ],
          "mesh3d": [
           {
            "colorbar": {
             "outlinewidth": 0,
             "ticks": ""
            },
            "type": "mesh3d"
           }
          ],
          "parcoords": [
           {
            "line": {
             "colorbar": {
              "outlinewidth": 0,
              "ticks": ""
             }
            },
            "type": "parcoords"
           }
          ],
          "pie": [
           {
            "automargin": true,
            "type": "pie"
           }
          ],
          "scatter": [
           {
            "fillpattern": {
             "fillmode": "overlay",
             "size": 10,
             "solidity": 0.2
            },
            "type": "scatter"
           }
          ],
          "scatter3d": [
           {
            "line": {
             "colorbar": {
              "outlinewidth": 0,
              "ticks": ""
             }
            },
            "marker": {
             "colorbar": {
              "outlinewidth": 0,
              "ticks": ""
             }
            },
            "type": "scatter3d"
           }
          ],
          "scattercarpet": [
           {
            "marker": {
             "colorbar": {
              "outlinewidth": 0,
              "ticks": ""
             }
            },
            "type": "scattercarpet"
           }
          ],
          "scattergeo": [
           {
            "marker": {
             "colorbar": {
              "outlinewidth": 0,
              "ticks": ""
             }
            },
            "type": "scattergeo"
           }
          ],
          "scattergl": [
           {
            "marker": {
             "colorbar": {
              "outlinewidth": 0,
              "ticks": ""
             }
            },
            "type": "scattergl"
           }
          ],
          "scattermap": [
           {
            "marker": {
             "colorbar": {
              "outlinewidth": 0,
              "ticks": ""
             }
            },
            "type": "scattermap"
           }
          ],
          "scattermapbox": [
           {
            "marker": {
             "colorbar": {
              "outlinewidth": 0,
              "ticks": ""
             }
            },
            "type": "scattermapbox"
           }
          ],
          "scatterpolar": [
           {
            "marker": {
             "colorbar": {
              "outlinewidth": 0,
              "ticks": ""
             }
            },
            "type": "scatterpolar"
           }
          ],
          "scatterpolargl": [
           {
            "marker": {
             "colorbar": {
              "outlinewidth": 0,
              "ticks": ""
             }
            },
            "type": "scatterpolargl"
           }
          ],
          "scatterternary": [
           {
            "marker": {
             "colorbar": {
              "outlinewidth": 0,
              "ticks": ""
             }
            },
            "type": "scatterternary"
           }
          ],
          "surface": [
           {
            "colorbar": {
             "outlinewidth": 0,
             "ticks": ""
            },
            "colorscale": [
             [
              0,
              "#0d0887"
             ],
             [
              0.1111111111111111,
              "#46039f"
             ],
             [
              0.2222222222222222,
              "#7201a8"
             ],
             [
              0.3333333333333333,
              "#9c179e"
             ],
             [
              0.4444444444444444,
              "#bd3786"
             ],
             [
              0.5555555555555556,
              "#d8576b"
             ],
             [
              0.6666666666666666,
              "#ed7953"
             ],
             [
              0.7777777777777778,
              "#fb9f3a"
             ],
             [
              0.8888888888888888,
              "#fdca26"
             ],
             [
              1,
              "#f0f921"
             ]
            ],
            "type": "surface"
           }
          ],
          "table": [
           {
            "cells": {
             "fill": {
              "color": "#EBF0F8"
             },
             "line": {
              "color": "white"
             }
            },
            "header": {
             "fill": {
              "color": "#C8D4E3"
             },
             "line": {
              "color": "white"
             }
            },
            "type": "table"
           }
          ]
         },
         "layout": {
          "annotationdefaults": {
           "arrowcolor": "#2a3f5f",
           "arrowhead": 0,
           "arrowwidth": 1
          },
          "autotypenumbers": "strict",
          "coloraxis": {
           "colorbar": {
            "outlinewidth": 0,
            "ticks": ""
           }
          },
          "colorscale": {
           "diverging": [
            [
             0,
             "#8e0152"
            ],
            [
             0.1,
             "#c51b7d"
            ],
            [
             0.2,
             "#de77ae"
            ],
            [
             0.3,
             "#f1b6da"
            ],
            [
             0.4,
             "#fde0ef"
            ],
            [
             0.5,
             "#f7f7f7"
            ],
            [
             0.6,
             "#e6f5d0"
            ],
            [
             0.7,
             "#b8e186"
            ],
            [
             0.8,
             "#7fbc41"
            ],
            [
             0.9,
             "#4d9221"
            ],
            [
             1,
             "#276419"
            ]
           ],
           "sequential": [
            [
             0,
             "#0d0887"
            ],
            [
             0.1111111111111111,
             "#46039f"
            ],
            [
             0.2222222222222222,
             "#7201a8"
            ],
            [
             0.3333333333333333,
             "#9c179e"
            ],
            [
             0.4444444444444444,
             "#bd3786"
            ],
            [
             0.5555555555555556,
             "#d8576b"
            ],
            [
             0.6666666666666666,
             "#ed7953"
            ],
            [
             0.7777777777777778,
             "#fb9f3a"
            ],
            [
             0.8888888888888888,
             "#fdca26"
            ],
            [
             1,
             "#f0f921"
            ]
           ],
           "sequentialminus": [
            [
             0,
             "#0d0887"
            ],
            [
             0.1111111111111111,
             "#46039f"
            ],
            [
             0.2222222222222222,
             "#7201a8"
            ],
            [
             0.3333333333333333,
             "#9c179e"
            ],
            [
             0.4444444444444444,
             "#bd3786"
            ],
            [
             0.5555555555555556,
             "#d8576b"
            ],
            [
             0.6666666666666666,
             "#ed7953"
            ],
            [
             0.7777777777777778,
             "#fb9f3a"
            ],
            [
             0.8888888888888888,
             "#fdca26"
            ],
            [
             1,
             "#f0f921"
            ]
           ]
          },
          "colorway": [
           "#636efa",
           "#EF553B",
           "#00cc96",
           "#ab63fa",
           "#FFA15A",
           "#19d3f3",
           "#FF6692",
           "#B6E880",
           "#FF97FF",
           "#FECB52"
          ],
          "font": {
           "color": "#2a3f5f"
          },
          "geo": {
           "bgcolor": "white",
           "lakecolor": "white",
           "landcolor": "#E5ECF6",
           "showlakes": true,
           "showland": true,
           "subunitcolor": "white"
          },
          "hoverlabel": {
           "align": "left"
          },
          "hovermode": "closest",
          "mapbox": {
           "style": "light"
          },
          "paper_bgcolor": "white",
          "plot_bgcolor": "#E5ECF6",
          "polar": {
           "angularaxis": {
            "gridcolor": "white",
            "linecolor": "white",
            "ticks": ""
           },
           "bgcolor": "#E5ECF6",
           "radialaxis": {
            "gridcolor": "white",
            "linecolor": "white",
            "ticks": ""
           }
          },
          "scene": {
           "xaxis": {
            "backgroundcolor": "#E5ECF6",
            "gridcolor": "white",
            "gridwidth": 2,
            "linecolor": "white",
            "showbackground": true,
            "ticks": "",
            "zerolinecolor": "white"
           },
           "yaxis": {
            "backgroundcolor": "#E5ECF6",
            "gridcolor": "white",
            "gridwidth": 2,
            "linecolor": "white",
            "showbackground": true,
            "ticks": "",
            "zerolinecolor": "white"
           },
           "zaxis": {
            "backgroundcolor": "#E5ECF6",
            "gridcolor": "white",
            "gridwidth": 2,
            "linecolor": "white",
            "showbackground": true,
            "ticks": "",
            "zerolinecolor": "white"
           }
          },
          "shapedefaults": {
           "line": {
            "color": "#2a3f5f"
           }
          },
          "ternary": {
           "aaxis": {
            "gridcolor": "white",
            "linecolor": "white",
            "ticks": ""
           },
           "baxis": {
            "gridcolor": "white",
            "linecolor": "white",
            "ticks": ""
           },
           "bgcolor": "#E5ECF6",
           "caxis": {
            "gridcolor": "white",
            "linecolor": "white",
            "ticks": ""
           }
          },
          "title": {
           "x": 0.05
          },
          "xaxis": {
           "automargin": true,
           "gridcolor": "white",
           "linecolor": "white",
           "ticks": "",
           "title": {
            "standoff": 15
           },
           "zerolinecolor": "white",
           "zerolinewidth": 2
          },
          "yaxis": {
           "automargin": true,
           "gridcolor": "white",
           "linecolor": "white",
           "ticks": "",
           "title": {
            "standoff": 15
           },
           "zerolinecolor": "white",
           "zerolinewidth": 2
          }
         }
        },
        "title": {
         "text": "Mapa: 3534093764340240 | Categoria: gas_transport"
        }
       }
      }
     },
     "metadata": {},
     "output_type": "display_data"
    }
   ],
   "source": [
    "n_observacao=3 #deve ser observacao presencial as demais nao teram valor para essa variavel\n",
    "# Selecionar a primeira observação do df_total\n",
    "obs = df_total[df_total[\"cc_num\"] == df_total[\"cc_num\"].iloc[n_observacao]].iloc[0]\n",
    "\n",
    "# Extrair coordenadas\n",
    "lat1, lon1 = obs['lat'], obs['long']\n",
    "lat2, lon2 = obs['merch_lat'], obs['merch_long']\n",
    "distancia_km = obs['distancia_km']\n",
    "\n",
    "# Criar DataFrame com os dois pontos\n",
    "df_pontos = pd.DataFrame({\n",
    "    'Nome': ['Titular', 'Estabelecimento'],\n",
    "    'Latitude': [lat1, lat2],\n",
    "    'Longitude': [lon1, lon2]\n",
    "})\n",
    "\n",
    "# Criar figura\n",
    "fig = go.Figure()\n",
    "\n",
    "# Adicionar os dois pontos\n",
    "fig.add_trace(go.Scattermapbox(\n",
    "    lat=df_pontos['Latitude'],\n",
    "    lon=df_pontos['Longitude'],\n",
    "    mode='markers+text',\n",
    "    text=df_pontos['Nome'],\n",
    "    marker=dict(size=12, color=['purple', 'blue']),\n",
    "    textposition=\"top center\",\n",
    "    name='Pontos'\n",
    "))\n",
    "\n",
    "# Linha entre os pontos\n",
    "fig.add_trace(go.Scattermapbox(\n",
    "    lat=[lat1, lat2],\n",
    "    lon=[lon1, lon2],\n",
    "    mode='lines',\n",
    "    line=dict(width=2, color='gray'),\n",
    "    name='Distância reta'\n",
    "))\n",
    "\n",
    "# Ponto médio com rótulo da distância\n",
    "if pd.notna(distancia_km):\n",
    "    lat_meio = (lat1 + lat2) / 2\n",
    "    lon_meio = (lon1 + lon2) / 2\n",
    "    fig.add_trace(go.Scattermapbox(\n",
    "        lat=[lat_meio],\n",
    "        lon=[lon_meio],\n",
    "        mode='markers+text',\n",
    "        text=[f'{round(distancia_km, 2)} km'],\n",
    "        marker=dict(size=1, color='white'),  # marcador minúsculo e invisível\n",
    "        textfont=dict(size=14, color='black'),\n",
    "        textposition=\"top center\",\n",
    "        showlegend=False\n",
    "    ))\n",
    "\n",
    "# Layout do mapa\n",
    "fig.update_layout(\n",
    "    mapbox_style=\"carto-positron\",\n",
    "    mapbox_zoom=3,\n",
    "    mapbox_center={\"lat\": (lat1 + lat2) / 2, \"lon\": (lon1 + lon2) / 2},\n",
    "    margin={\"r\":0,\"t\":0,\"l\":0,\"b\":0},\n",
    "    height=500,\n",
    "    title=f\"Mapa: {obs['cc_num']} | Categoria: {obs['category']}\"\n",
    ")\n",
    "\n",
    "fig.show()\n"
   ]
  },
  {
   "cell_type": "markdown",
   "metadata": {},
   "source": [
    "* Verificando as quantidades por \"categoria\" (criada so pra analise, nao e uma feature) de distancias, para identificar concentracoes em distancias maiores para transacoes presenciais. \n",
    "    * Distancias muito grandes para compras presenciais e um estabelecimento \"pode\" pontar um padrao de fraudes;\n",
    "    * Ha maior concentracao em fraudes presenciais de 50 a 100 km de distancia entre endereco do titular e o estabelecimento, e uma distancia aceitavel, pode significar viagens, trabalho ... Nada muito discrepante. \n",
    "    * Ha poucas variaveis com km acima de 120, nao parecem ser indcios de padrao de fraude. "
   ]
  },
  {
   "cell_type": "code",
   "execution_count": 22,
   "metadata": {},
   "outputs": [
    {
     "data": {
      "image/png": "[encoded data removed]",
      "text/plain": [
       "<Figure size 1000x600 with 1 Axes>"
      ]
     },
     "metadata": {},
     "output_type": "display_data"
    },
    {
     "name": "stdout",
     "output_type": "stream",
     "text": [
      "Total de transações fraudulentas com distância >= 0 km: 9651\n"
     ]
    }
   ],
   "source": [
    "import matplotlib.pyplot as plt\n",
    "\n",
    "# Contagens por faixa\n",
    "faixas = ['0 a 50 km', '50 a 100 km', '100 a 120 km', '120 a 130 km', 'Acima de 130 km']\n",
    "contagens = [\n",
    "    ((df_total[\"distancia_km\"] > 0) & (df_total[\"distancia_km\"] <= 50) & (df_total[\"is_fraud\"] == 1)).sum(),\n",
    "    ((df_total[\"distancia_km\"] > 50) & (df_total[\"distancia_km\"] <= 100) & (df_total[\"is_fraud\"] == 1)).sum(),\n",
    "    ((df_total[\"distancia_km\"] > 100) & (df_total[\"distancia_km\"] <= 120) & (df_total[\"is_fraud\"] == 1)).sum(),\n",
    "    ((df_total[\"distancia_km\"] > 120) & (df_total[\"distancia_km\"] <= 130) & (df_total[\"is_fraud\"] == 1)).sum(),\n",
    "    ((df_total[\"distancia_km\"] > 130) & (df_total[\"is_fraud\"] == 1)).sum()\n",
    "]\n",
    "\n",
    "# Plotando o gráfico\n",
    "import matplotlib.pyplot as plt\n",
    "\n",
    "plt.figure(figsize=(10, 6))\n",
    "bars = plt.bar(faixas, contagens, color='steelblue')\n",
    "\n",
    "# Adicionando rótulos com as contagens\n",
    "for bar, count in zip(bars, contagens):\n",
    "    plt.text(bar.get_x() + bar.get_width()/2, bar.get_height(), str(count), \n",
    "             ha='center', va='bottom', fontsize=10)\n",
    "\n",
    "plt.title('Contagem de transações fraudulentas por faixa de distância (em km)')\n",
    "plt.ylabel('Número de transações')\n",
    "plt.xlabel('Faixas de distância')\n",
    "plt.grid(axis='y', linestyle='--', alpha=0.5)\n",
    "plt.tight_layout()\n",
    "plt.show()\n",
    "\n",
    "\n",
    "print(\"Total de transações fraudulentas com distância >= 0 km:\", \n",
    "      ((df_total[\"is_fraud\"] == 1) & (df_total[\"distancia_km\"] >= 0)).sum())\n",
    "\n",
    "\n"
   ]
  },
  {
   "cell_type": "code",
   "execution_count": 23,
   "metadata": {},
   "outputs": [],
   "source": [
    "# Copia a coluna de trans_num para preserva-la comom coluna de dados no df \n",
    "df_total[\"trans_num_copy\"] = df_total[\"trans_num\"]\n",
    "\n",
    "# Define o índice como trans_num \n",
    "df_total.set_index(\"trans_num_copy\", inplace=True)\n"
   ]
  },
  {
   "cell_type": "code",
   "execution_count": 24,
   "metadata": {},
   "outputs": [],
   "source": [
    "df_total.index.name = None #tira o cabecalho da variavel trans_num da primeira linha do df"
   ]
  },
  {
   "cell_type": "code",
   "execution_count": 25,
   "metadata": {},
   "outputs": [],
   "source": [
    "# Dropando colunas desnecessarias\n",
    "colunas_excluir = ['unix_time', 'zip', 'state', 'city', 'street', 'gender', 'last', 'first','job','merchant']\n",
    "df_total = Limpa_df(df_total, colunas_excluir)"
   ]
  },
  {
   "cell_type": "code",
   "execution_count": 26,
   "metadata": {},
   "outputs": [],
   "source": [
    "#transformar variaveis com transformacao relevante (inicialmente) no dicionario de dados CONTINUAR\n",
    "\n",
    "# Converter 'dob' e 'trans_date...' para datetime\n",
    "df_total[\"dob\"] = pd.to_datetime(df_total[\"dob\"])\n",
    "df_total[\"trans_date_trans_time\"] = pd.to_datetime(df_total[\"trans_date_trans_time\"])\n",
    "\n",
    "#calculando a idade\n",
    "#usando a diferenca entre o nascimento e o momento da transacao para evitar distorcoes (usar a data atual criaria uma idade flutuante ao longo do tempo)\n",
    "df_total[\"age\"] = df_total.apply(lambda linha: linha[\"trans_date_trans_time\"].year - linha[\"dob\"].year, axis=1) #funcao lambda \"linha\" que aplica a subtracao de datas linha a linha no df_total atraves do apply()\n",
    "\n",
    "#remove data de nascimento, nao e mais util\n",
    "df_total.drop(columns=[\"dob\"], inplace=True)\n"
   ]
  },
  {
   "cell_type": "code",
   "execution_count": 27,
   "metadata": {},
   "outputs": [],
   "source": [
    "# criando variavel 'BIN' que corresponde ao codigo do banco da transacao com base no numero do cartao 'cc_num'\n",
    "df_total[\"bin\"] = df_total[\"cc_num\"].astype(str).str[:6]"
   ]
  },
  {
   "cell_type": "code",
   "execution_count": 28,
   "metadata": {},
   "outputs": [],
   "source": [
    "# extraindo variaveis do horario da transacao\n",
    "\n",
    "# Certificando que a coluna 'trans_date_trans_time' está no formato datetime\n",
    "df_total['trans_date_trans_time'] = pd.to_datetime(df_total['trans_date_trans_time'])\n",
    "\n",
    "# Extraindo o dia da semana (0=segunda, 1=terça, ..., 6=domingo)\n",
    "df_total['day_of_week'] = df_total['trans_date_trans_time'].dt.dayofweek\n",
    "\n",
    "# Extraindo o mês\n",
    "df_total['month'] = df_total['trans_date_trans_time'].dt.month\n",
    "\n",
    "# Extraindo o horário completo (hora:minuto:segundo)\n",
    "df_total['time'] = df_total['trans_date_trans_time'].dt.strftime('%H:%M:%S')\n",
    "\n",
    "\n",
    "def classify_period(hour):\n",
    "    if 0 <= hour < 3:\n",
    "        return 'Madrugada Início'\n",
    "    elif 3 <= hour < 6:\n",
    "        return 'Madrugada Final'\n",
    "    elif 6 <= hour < 9:\n",
    "        return 'Manhã Início'\n",
    "    elif 9 <= hour < 12:\n",
    "        return 'Manhã Final'\n",
    "    elif 12 <= hour < 15:\n",
    "        return 'Tarde Início'\n",
    "    elif 15 <= hour < 18:\n",
    "        return 'Tarde Final'\n",
    "    elif 18 <= hour < 21:\n",
    "        return 'Noite Início'\n",
    "    elif 21 <= hour < 24:\n",
    "        return 'Noite Final'\n",
    "\n",
    "\n",
    "# Extraindo a hora da transação\n",
    "df_total['hour'] = df_total['trans_date_trans_time'].dt.hour\n",
    "\n",
    "# Aplicando a função para classificar o período\n",
    "df_total['period'] = df_total['hour'].apply(classify_period)\n"
   ]
  },
  {
   "cell_type": "code",
   "execution_count": 29,
   "metadata": {},
   "outputs": [],
   "source": [
    "#VARAIVEL DE CONTAGEM DE VEZES QUE O CARTAO FOI USADO NAS ULTIMAS 1 HORA \n",
    "# (PRECISA INVESTIGAR SE 1 HORA E MUITO OU POUCO PARA ESSA VARIAVEL, A IDEIA E PEGAR O PADRAO DE TEMPO ENTRE UMA E OUTRA TRANSACAO FRAUDULENTA)\n",
    "\n",
    "# Converter para datetime e ordenar\n",
    "df_total['trans_date_trans_time'] = pd.to_datetime(df_total['trans_date_trans_time'])\n",
    "df_total = df_total.sort_values(by=['trans_date_trans_time', 'cc_num'])\n",
    "\n",
    "# Resetar o índice temporariamente para permitir o uso com numpy (evita erro com string como índice)\n",
    "df_total_reset = df_total.reset_index()  # trans_num vira coluna\n",
    "\n",
    "# Criar array para armazenar a contagem\n",
    "trans_count_list = np.zeros(len(df_total_reset), dtype=int)\n",
    "\n",
    "# Aplicar a contagem eficiente usando searchsorted()\n",
    "for card, group in df_total_reset.groupby('cc_num'):\n",
    "    timestamps = group['trans_date_trans_time'].values\n",
    "    idx = np.searchsorted(timestamps, timestamps - np.timedelta64(1, 'h'), side='left')\n",
    "    trans_count_list[group.index] = np.arange(len(group)) - idx\n",
    "\n",
    "# Atribuir os valores ao DataFrame\n",
    "df_total_reset['trans_count_last_hour'] = trans_count_list\n",
    "\n",
    "# Restaurar o índice original 'trans_num'\n",
    "df_total = df_total_reset.set_index('trans_num')\n",
    "\n",
    "\n",
    "\n",
    "#validando logica (comparar as horas entre as transacoes e se a quantidade bate)\n",
    "#df_filtro = df_total[df_total['cc_num'] == \t4613314721966]\n",
    "#df_filtro = df_filtro[df_filtro['is_fraud'] == 1\t]\n",
    "\n",
    "#df_filtro = df_filtro.sort_values(by='trans_date_trans_time', ascending=False)  # Ordenar do maior para o menor\n",
    "\n",
    "#df_filtro.head(1000)\n",
    "\n"
   ]
  },
  {
   "cell_type": "code",
   "execution_count": 30,
   "metadata": {},
   "outputs": [],
   "source": [
    "#VARIAVEL DE QUANTIDADE DE VEZES QUE O CARTAO DE CADA TRANSACAO FOI USADO DURANTE PERIODO TOTAL (AMOSTRA INTEIRA)\n",
    "\n",
    "# Contar quantas vezes cada cartão aparece na base\n",
    "df_qtd_uso_cartoes = df_total.groupby('cc_num').size().reset_index(name='card_usage_count')\n",
    "\n",
    "# Juntar essa informação de volta ao DataFrame original\n",
    "df_total = df_total.merge(df_qtd_uso_cartoes, on='cc_num', how='left')\n",
    "\n",
    "\n",
    "#validando logica\n",
    "#df_filtro_uso = df_qtd_uso_cartoes[df_qtd_uso_cartoes['cc_num']==4613314721966]\n",
    "#df_filtro_uso.head(10)\n",
    "\n",
    "# Define o índice novamente (foi desconfigurado nos processos anteriores por necessidade)\n",
    "df_total.set_index(\"index\", inplace=True)\n",
    "\n",
    "df_total.index.name = None #tira o cabecalho da variavel da primeira linha do df\n",
    "\n",
    "\n",
    "#Aplica def de reorganizar colunas \n",
    "df_total = mover_target_para_final(df_total, 'is_fraud')"
   ]
  },
  {
   "cell_type": "markdown",
   "metadata": {},
   "source": [
    "# Transformação de Horário em Variáveis Cíclicas (Seno e Cosseno)\n",
    "\n",
    "A variável time, que representa o horário da transação, possui natureza cíclica, ou seja, após 23:59 o ciclo recomeça em 00:00. Modelos de Machine Learning não entendem esse padrão circular por padrão, e tratam 23h e 0h como distantes, quando na verdade são muito próximas.\n",
    "\n",
    "Para capturar essa ciclicidade corretamente, transformamos a hora em duas novas variáveis usando funções trigonométricas:\n",
    "\n",
    "time_sin = sin(2π * hora / 24)\n",
    "\n",
    "time_cos = cos(2π * hora / 24)\n",
    "\n",
    "Essas variáveis projetam o horário em um círculo unitário, permitindo que o modelo entenda a transição natural entre horários e aprenda padrões temporais com mais precisão.\n",
    "\n",
    "Essa técnica é especialmente útil em modelos lineares, onde relações cíclicas não são captadas automaticamente."
   ]
  },
  {
   "cell_type": "code",
   "execution_count": 31,
   "metadata": {},
   "outputs": [
    {
     "data": {
      "text/html": [
       "<div>\n",
       "<style scoped>\n",
       "    .dataframe tbody tr th:only-of-type {\n",
       "        vertical-align: middle;\n",
       "    }\n",
       "\n",
       "    .dataframe tbody tr th {\n",
       "        vertical-align: top;\n",
       "    }\n",
       "\n",
       "    .dataframe thead th {\n",
       "        text-align: right;\n",
       "    }\n",
       "</style>\n",
       "<table border=\"1\" class=\"dataframe\">\n",
       "  <thead>\n",
       "    <tr style=\"text-align: right;\">\n",
       "      <th></th>\n",
       "      <th>trans_date_trans_time</th>\n",
       "      <th>cc_num</th>\n",
       "      <th>category</th>\n",
       "      <th>amt</th>\n",
       "      <th>lat</th>\n",
       "      <th>long</th>\n",
       "      <th>city_pop</th>\n",
       "      <th>merch_lat</th>\n",
       "      <th>merch_long</th>\n",
       "      <th>distancia_km</th>\n",
       "      <th>age</th>\n",
       "      <th>bin</th>\n",
       "      <th>day_of_week</th>\n",
       "      <th>month</th>\n",
       "      <th>hour</th>\n",
       "      <th>period</th>\n",
       "      <th>trans_count_last_hour</th>\n",
       "      <th>card_usage_count</th>\n",
       "      <th>is_fraud</th>\n",
       "      <th>hora_decimal</th>\n",
       "      <th>time_sin</th>\n",
       "      <th>time_cos</th>\n",
       "    </tr>\n",
       "  </thead>\n",
       "  <tbody>\n",
       "    <tr>\n",
       "      <th>0b242abb623afc578575680df30655b9</th>\n",
       "      <td>2019-01-01 00:00:18</td>\n",
       "      <td>2703186189652095</td>\n",
       "      <td>misc_net</td>\n",
       "      <td>4.97</td>\n",
       "      <td>36.08</td>\n",
       "      <td>-81.18</td>\n",
       "      <td>3495</td>\n",
       "      <td>36.01</td>\n",
       "      <td>-82.05</td>\n",
       "      <td>0.00</td>\n",
       "      <td>31</td>\n",
       "      <td>270318</td>\n",
       "      <td>1</td>\n",
       "      <td>1</td>\n",
       "      <td>0</td>\n",
       "      <td>Madrugada Início</td>\n",
       "      <td>0</td>\n",
       "      <td>2927</td>\n",
       "      <td>0</td>\n",
       "      <td>0.01</td>\n",
       "      <td>0.00</td>\n",
       "      <td>1.00</td>\n",
       "    </tr>\n",
       "    <tr>\n",
       "      <th>1f76529f8574734946361c461b024d99</th>\n",
       "      <td>2019-01-01 00:00:44</td>\n",
       "      <td>630423337322</td>\n",
       "      <td>grocery_pos</td>\n",
       "      <td>107.23</td>\n",
       "      <td>48.89</td>\n",
       "      <td>-118.21</td>\n",
       "      <td>149</td>\n",
       "      <td>49.16</td>\n",
       "      <td>-118.19</td>\n",
       "      <td>30.21</td>\n",
       "      <td>41</td>\n",
       "      <td>630423</td>\n",
       "      <td>1</td>\n",
       "      <td>1</td>\n",
       "      <td>0</td>\n",
       "      <td>Madrugada Início</td>\n",
       "      <td>0</td>\n",
       "      <td>4362</td>\n",
       "      <td>0</td>\n",
       "      <td>0.01</td>\n",
       "      <td>0.00</td>\n",
       "      <td>1.00</td>\n",
       "    </tr>\n",
       "    <tr>\n",
       "      <th>a1a22d70485983eac12b5b88dad1cf95</th>\n",
       "      <td>2019-01-01 00:00:51</td>\n",
       "      <td>38859492057661</td>\n",
       "      <td>entertainment</td>\n",
       "      <td>220.11</td>\n",
       "      <td>42.18</td>\n",
       "      <td>-112.26</td>\n",
       "      <td>4154</td>\n",
       "      <td>43.15</td>\n",
       "      <td>-112.15</td>\n",
       "      <td>0.00</td>\n",
       "      <td>57</td>\n",
       "      <td>388594</td>\n",
       "      <td>1</td>\n",
       "      <td>1</td>\n",
       "      <td>0</td>\n",
       "      <td>Madrugada Início</td>\n",
       "      <td>0</td>\n",
       "      <td>735</td>\n",
       "      <td>0</td>\n",
       "      <td>0.01</td>\n",
       "      <td>0.00</td>\n",
       "      <td>1.00</td>\n",
       "    </tr>\n",
       "    <tr>\n",
       "      <th>6b849c168bdad6f867558c3793159a81</th>\n",
       "      <td>2019-01-01 00:01:16</td>\n",
       "      <td>3534093764340240</td>\n",
       "      <td>gas_transport</td>\n",
       "      <td>45.00</td>\n",
       "      <td>46.23</td>\n",
       "      <td>-112.11</td>\n",
       "      <td>1939</td>\n",
       "      <td>47.03</td>\n",
       "      <td>-112.56</td>\n",
       "      <td>95.67</td>\n",
       "      <td>52</td>\n",
       "      <td>353409</td>\n",
       "      <td>1</td>\n",
       "      <td>1</td>\n",
       "      <td>0</td>\n",
       "      <td>Madrugada Início</td>\n",
       "      <td>0</td>\n",
       "      <td>743</td>\n",
       "      <td>0</td>\n",
       "      <td>0.02</td>\n",
       "      <td>0.01</td>\n",
       "      <td>1.00</td>\n",
       "    </tr>\n",
       "    <tr>\n",
       "      <th>a41d7549acf90789359a9aa5346dcb46</th>\n",
       "      <td>2019-01-01 00:03:06</td>\n",
       "      <td>375534208663984</td>\n",
       "      <td>misc_pos</td>\n",
       "      <td>41.96</td>\n",
       "      <td>38.42</td>\n",
       "      <td>-79.46</td>\n",
       "      <td>99</td>\n",
       "      <td>38.67</td>\n",
       "      <td>-78.63</td>\n",
       "      <td>77.56</td>\n",
       "      <td>33</td>\n",
       "      <td>375534</td>\n",
       "      <td>1</td>\n",
       "      <td>1</td>\n",
       "      <td>0</td>\n",
       "      <td>Madrugada Início</td>\n",
       "      <td>0</td>\n",
       "      <td>2922</td>\n",
       "      <td>0</td>\n",
       "      <td>0.05</td>\n",
       "      <td>0.01</td>\n",
       "      <td>1.00</td>\n",
       "    </tr>\n",
       "    <tr>\n",
       "      <th>189a841a0a8ba03058526bcfe566aab5</th>\n",
       "      <td>2019-01-01 00:04:08</td>\n",
       "      <td>4767265376804500</td>\n",
       "      <td>gas_transport</td>\n",
       "      <td>94.63</td>\n",
       "      <td>40.38</td>\n",
       "      <td>-75.20</td>\n",
       "      <td>2158</td>\n",
       "      <td>40.65</td>\n",
       "      <td>-76.15</td>\n",
       "      <td>85.92</td>\n",
       "      <td>58</td>\n",
       "      <td>476726</td>\n",
       "      <td>1</td>\n",
       "      <td>1</td>\n",
       "      <td>0</td>\n",
       "      <td>Madrugada Início</td>\n",
       "      <td>0</td>\n",
       "      <td>736</td>\n",
       "      <td>0</td>\n",
       "      <td>0.07</td>\n",
       "      <td>0.02</td>\n",
       "      <td>1.00</td>\n",
       "    </tr>\n",
       "    <tr>\n",
       "      <th>83ec1cc84142af6e2acf10c44949e720</th>\n",
       "      <td>2019-01-01 00:04:42</td>\n",
       "      <td>30074693890476</td>\n",
       "      <td>grocery_net</td>\n",
       "      <td>44.54</td>\n",
       "      <td>37.99</td>\n",
       "      <td>-100.99</td>\n",
       "      <td>2691</td>\n",
       "      <td>37.16</td>\n",
       "      <td>-100.15</td>\n",
       "      <td>0.00</td>\n",
       "      <td>26</td>\n",
       "      <td>300746</td>\n",
       "      <td>1</td>\n",
       "      <td>1</td>\n",
       "      <td>0</td>\n",
       "      <td>Madrugada Início</td>\n",
       "      <td>0</td>\n",
       "      <td>2933</td>\n",
       "      <td>0</td>\n",
       "      <td>0.08</td>\n",
       "      <td>0.02</td>\n",
       "      <td>1.00</td>\n",
       "    </tr>\n",
       "    <tr>\n",
       "      <th>6d294ed2cc447d2c71c7171a3d54967c</th>\n",
       "      <td>2019-01-01 00:05:08</td>\n",
       "      <td>6011360759745864</td>\n",
       "      <td>gas_transport</td>\n",
       "      <td>71.65</td>\n",
       "      <td>38.84</td>\n",
       "      <td>-78.60</td>\n",
       "      <td>6018</td>\n",
       "      <td>38.95</td>\n",
       "      <td>-78.54</td>\n",
       "      <td>12.77</td>\n",
       "      <td>72</td>\n",
       "      <td>601136</td>\n",
       "      <td>1</td>\n",
       "      <td>1</td>\n",
       "      <td>0</td>\n",
       "      <td>Madrugada Início</td>\n",
       "      <td>0</td>\n",
       "      <td>1464</td>\n",
       "      <td>0</td>\n",
       "      <td>0.09</td>\n",
       "      <td>0.02</td>\n",
       "      <td>1.00</td>\n",
       "    </tr>\n",
       "    <tr>\n",
       "      <th>fc28024ce480f8ef21a32d64c93a29f5</th>\n",
       "      <td>2019-01-01 00:05:18</td>\n",
       "      <td>4922710831011201</td>\n",
       "      <td>misc_pos</td>\n",
       "      <td>4.27</td>\n",
       "      <td>40.34</td>\n",
       "      <td>-79.66</td>\n",
       "      <td>1472</td>\n",
       "      <td>40.35</td>\n",
       "      <td>-79.96</td>\n",
       "      <td>25.27</td>\n",
       "      <td>78</td>\n",
       "      <td>492271</td>\n",
       "      <td>1</td>\n",
       "      <td>1</td>\n",
       "      <td>0</td>\n",
       "      <td>Madrugada Início</td>\n",
       "      <td>0</td>\n",
       "      <td>1470</td>\n",
       "      <td>0</td>\n",
       "      <td>0.09</td>\n",
       "      <td>0.02</td>\n",
       "      <td>1.00</td>\n",
       "    </tr>\n",
       "    <tr>\n",
       "      <th>3b9014ea8fb80bd65de0b1463b00b00e</th>\n",
       "      <td>2019-01-01 00:06:01</td>\n",
       "      <td>2720830304681674</td>\n",
       "      <td>grocery_pos</td>\n",
       "      <td>198.39</td>\n",
       "      <td>36.52</td>\n",
       "      <td>-87.35</td>\n",
       "      <td>151785</td>\n",
       "      <td>37.18</td>\n",
       "      <td>-87.49</td>\n",
       "      <td>74.08</td>\n",
       "      <td>45</td>\n",
       "      <td>272083</td>\n",
       "      <td>1</td>\n",
       "      <td>1</td>\n",
       "      <td>0</td>\n",
       "      <td>Madrugada Início</td>\n",
       "      <td>0</td>\n",
       "      <td>1467</td>\n",
       "      <td>0</td>\n",
       "      <td>0.10</td>\n",
       "      <td>0.03</td>\n",
       "      <td>1.00</td>\n",
       "    </tr>\n",
       "  </tbody>\n",
       "</table>\n",
       "</div>"
      ],
      "text/plain": [
       "                                 trans_date_trans_time            cc_num       category    amt   lat    long  city_pop  merch_lat  merch_long  distancia_km  age     bin  day_of_week  month  hour            period  trans_count_last_hour  card_usage_count  is_fraud  hora_decimal  time_sin  time_cos\n",
       "0b242abb623afc578575680df30655b9   2019-01-01 00:00:18  2703186189652095       misc_net   4.97 36.08  -81.18      3495      36.01      -82.05          0.00   31  270318            1      1     0  Madrugada Início                      0              2927         0          0.01      0.00      1.00\n",
       "1f76529f8574734946361c461b024d99   2019-01-01 00:00:44      630423337322    grocery_pos 107.23 48.89 -118.21       149      49.16     -118.19         30.21   41  630423            1      1     0  Madrugada Início                      0              4362         0          0.01      0.00      1.00\n",
       "a1a22d70485983eac12b5b88dad1cf95   2019-01-01 00:00:51    38859492057661  entertainment 220.11 42.18 -112.26      4154      43.15     -112.15          0.00   57  388594            1      1     0  Madrugada Início                      0               735         0          0.01      0.00      1.00\n",
       "6b849c168bdad6f867558c3793159a81   2019-01-01 00:01:16  3534093764340240  gas_transport  45.00 46.23 -112.11      1939      47.03     -112.56         95.67   52  353409            1      1     0  Madrugada Início                      0               743         0          0.02      0.01      1.00\n",
       "a41d7549acf90789359a9aa5346dcb46   2019-01-01 00:03:06   375534208663984       misc_pos  41.96 38.42  -79.46        99      38.67      -78.63         77.56   33  375534            1      1     0  Madrugada Início                      0              2922         0          0.05      0.01      1.00\n",
       "189a841a0a8ba03058526bcfe566aab5   2019-01-01 00:04:08  4767265376804500  gas_transport  94.63 40.38  -75.20      2158      40.65      -76.15         85.92   58  476726            1      1     0  Madrugada Início                      0               736         0          0.07      0.02      1.00\n",
       "83ec1cc84142af6e2acf10c44949e720   2019-01-01 00:04:42    30074693890476    grocery_net  44.54 37.99 -100.99      2691      37.16     -100.15          0.00   26  300746            1      1     0  Madrugada Início                      0              2933         0          0.08      0.02      1.00\n",
       "6d294ed2cc447d2c71c7171a3d54967c   2019-01-01 00:05:08  6011360759745864  gas_transport  71.65 38.84  -78.60      6018      38.95      -78.54         12.77   72  601136            1      1     0  Madrugada Início                      0              1464         0          0.09      0.02      1.00\n",
       "fc28024ce480f8ef21a32d64c93a29f5   2019-01-01 00:05:18  4922710831011201       misc_pos   4.27 40.34  -79.66      1472      40.35      -79.96         25.27   78  492271            1      1     0  Madrugada Início                      0              1470         0          0.09      0.02      1.00\n",
       "3b9014ea8fb80bd65de0b1463b00b00e   2019-01-01 00:06:01  2720830304681674    grocery_pos 198.39 36.52  -87.35    151785      37.18      -87.49         74.08   45  272083            1      1     0  Madrugada Início                      0              1467         0          0.10      0.03      1.00"
      ]
     },
     "execution_count": 31,
     "metadata": {},
     "output_type": "execute_result"
    }
   ],
   "source": [
    "\n",
    "# Converter a coluna 'time' de string para datetime.time\n",
    "df_total['time'] = pd.to_datetime(df_total['time'], format='%H:%M:%S').dt.time\n",
    "\n",
    "# Extrair a hora, minuto e segundo como número decimal de hora\n",
    "df_total['hora_decimal'] = df_total['time'].apply(lambda x: x.hour + x.minute/60 + x.second/3600)\n",
    "\n",
    "# Codificação cíclica: seno e cosseno da hora do dia\n",
    "df_total['time_sin'] = np.sin(2 * np.pi * df_total['hora_decimal'] / 24)\n",
    "df_total['time_cos'] = np.cos(2 * np.pi * df_total['hora_decimal'] / 24)\n",
    "\n",
    "\n",
    "\n",
    "#dropando variavel 'time' apos transformaca, caso ela seja necessaia para calcular o tempo entre trnasacoes (se essa variavel for viabilizada, esta em analise se faz sentido) \n",
    "#basta comentar essa parte do codigo que ela se mantem \n",
    "\n",
    "# Dropando colunas desnecessarias\n",
    "colunas_excluir = ['time']\n",
    "df_total = Limpa_df(df_total, colunas_excluir)\n",
    "\n",
    "\n",
    "#visualizando nova feature\n",
    "pd.set_option('display.max_rows', None)\n",
    "df_total.head(10)"
   ]
  },
  {
   "cell_type": "markdown",
   "metadata": {},
   "source": [
    "* verificando os tipos das variaveis e a contagem de categorias das categoricas \n",
    "    * das 3 categoricas e possivel notar que a vartaivel bin que corresponde ao codigo do suposto banco de cada transacao, tem muitas categorias (muitos bancos) isso torna inviavel one hot encoder\n",
    "    * Entao na celula seguinte, foi verificado dos bancos mais ofensores em percentual de fraudes por transacao, para encontrar algum padrao \n",
    "    * Dado isso, será aplicada uma transformação de Target Encoding (neste caso, Mean Encoding), que substitui cada categoria de bin pela média do target (proporção média de fraude) dentro daquela categoria. \n",
    "        * Para evitar overfitting e vazamento de dados, a codificação será aplicada separadamente dentro de cada fold durante a validação cruzada e, posteriormente, no conjunto de teste de forma independente. \n",
    "        * Além disso, será utilizado o parâmetro smoothing, que atua como uma forma de regularização. O smoothing realiza um balanceamento entre a média do target por categoria e a média global do target, dando mais peso à média global em categorias com poucas observações. Isso ajuda a suavizar os valores atribuídos a categorias raras e reduz o risco de superestimar seu efeito, tornando o modelo mais robusto."
   ]
  },
  {
   "cell_type": "code",
   "execution_count": 32,
   "metadata": {},
   "outputs": [
    {
     "name": "stdout",
     "output_type": "stream",
     "text": [
      "trans_date_trans_time    datetime64[ns]\n",
      "cc_num                            int64\n",
      "category                         object\n",
      "amt                             float64\n",
      "lat                             float64\n",
      "long                            float64\n",
      "city_pop                          int64\n",
      "merch_lat                       float64\n",
      "merch_long                      float64\n",
      "distancia_km                    float64\n",
      "age                               int64\n",
      "bin                              object\n",
      "day_of_week                       int32\n",
      "month                             int32\n",
      "hour                              int32\n",
      "period                           object\n",
      "trans_count_last_hour             int64\n",
      "card_usage_count                  int64\n",
      "is_fraud                          int64\n",
      "hora_decimal                    float64\n",
      "time_sin                        float64\n",
      "time_cos                        float64\n",
      "dtype: object\n",
      "\n",
      "category: 14 categorias únicas\n",
      "bin: 976 categorias únicas\n",
      "period: 8 categorias únicas\n"
     ]
    }
   ],
   "source": [
    "\n",
    "# VERIFICANDO OS TIPOS PARA POSSIVEL TRANSFORMACAO \n",
    "print(df_total.dtypes)\n",
    "\n",
    "print('')\n",
    "# Selecionar colunas do tipo object\n",
    "object_cols = df_total.select_dtypes(include='object').columns\n",
    "\n",
    "# Contar categorias únicas em cada uma\n",
    "for col in object_cols:\n",
    "    print(f\"{col}: {df_total[col].nunique()} categorias únicas\")\n",
    "\n"
   ]
  },
  {
   "cell_type": "code",
   "execution_count": 33,
   "metadata": {},
   "outputs": [
    {
     "data": {
      "text/html": [
       "<div>\n",
       "<style scoped>\n",
       "    .dataframe tbody tr th:only-of-type {\n",
       "        vertical-align: middle;\n",
       "    }\n",
       "\n",
       "    .dataframe tbody tr th {\n",
       "        vertical-align: top;\n",
       "    }\n",
       "\n",
       "    .dataframe thead th {\n",
       "        text-align: right;\n",
       "    }\n",
       "</style>\n",
       "<table border=\"1\" class=\"dataframe\">\n",
       "  <thead>\n",
       "    <tr style=\"text-align: right;\">\n",
       "      <th></th>\n",
       "      <th>bin</th>\n",
       "      <th>proporcao_fraude</th>\n",
       "      <th>contagem_fraude</th>\n",
       "      <th>total_transacoes</th>\n",
       "    </tr>\n",
       "  </thead>\n",
       "  <tbody>\n",
       "    <tr>\n",
       "      <th>27</th>\n",
       "      <td>180098</td>\n",
       "      <td>1.00</td>\n",
       "      <td>12</td>\n",
       "      <td>12</td>\n",
       "    </tr>\n",
       "    <tr>\n",
       "      <th>4</th>\n",
       "      <td>180020</td>\n",
       "      <td>1.00</td>\n",
       "      <td>12</td>\n",
       "      <td>12</td>\n",
       "    </tr>\n",
       "    <tr>\n",
       "      <th>26</th>\n",
       "      <td>180097</td>\n",
       "      <td>1.00</td>\n",
       "      <td>7</td>\n",
       "      <td>7</td>\n",
       "    </tr>\n",
       "    <tr>\n",
       "      <th>7</th>\n",
       "      <td>180038</td>\n",
       "      <td>1.00</td>\n",
       "      <td>10</td>\n",
       "      <td>10</td>\n",
       "    </tr>\n",
       "    <tr>\n",
       "      <th>960</th>\n",
       "      <td>676179</td>\n",
       "      <td>1.00</td>\n",
       "      <td>11</td>\n",
       "      <td>11</td>\n",
       "    </tr>\n",
       "    <tr>\n",
       "      <th>259</th>\n",
       "      <td>352804</td>\n",
       "      <td>1.00</td>\n",
       "      <td>11</td>\n",
       "      <td>11</td>\n",
       "    </tr>\n",
       "    <tr>\n",
       "      <th>603</th>\n",
       "      <td>441767</td>\n",
       "      <td>1.00</td>\n",
       "      <td>11</td>\n",
       "      <td>11</td>\n",
       "    </tr>\n",
       "    <tr>\n",
       "      <th>299</th>\n",
       "      <td>354733</td>\n",
       "      <td>1.00</td>\n",
       "      <td>11</td>\n",
       "      <td>11</td>\n",
       "    </tr>\n",
       "    <tr>\n",
       "      <th>283</th>\n",
       "      <td>354041</td>\n",
       "      <td>1.00</td>\n",
       "      <td>8</td>\n",
       "      <td>8</td>\n",
       "    </tr>\n",
       "    <tr>\n",
       "      <th>922</th>\n",
       "      <td>651777</td>\n",
       "      <td>1.00</td>\n",
       "      <td>11</td>\n",
       "      <td>11</td>\n",
       "    </tr>\n",
       "  </tbody>\n",
       "</table>\n",
       "</div>"
      ],
      "text/plain": [
       "        bin  proporcao_fraude  contagem_fraude  total_transacoes\n",
       "27   180098              1.00               12                12\n",
       "4    180020              1.00               12                12\n",
       "26   180097              1.00                7                 7\n",
       "7    180038              1.00               10                10\n",
       "960  676179              1.00               11                11\n",
       "259  352804              1.00               11                11\n",
       "603  441767              1.00               11                11\n",
       "299  354733              1.00               11                11\n",
       "283  354041              1.00                8                 8\n",
       "922  651777              1.00               11                11"
      ]
     },
     "execution_count": 33,
     "metadata": {},
     "output_type": "execute_result"
    }
   ],
   "source": [
    "# Agrupamento por bin com os principais indicadores\n",
    "resumo_bin = (\n",
    "    df_total\n",
    "    .groupby('bin')\n",
    "    .agg(\n",
    "        proporcao_fraude=('is_fraud', 'mean'),\n",
    "        contagem_fraude=('is_fraud', 'sum'),\n",
    "        total_transacoes=('is_fraud', 'count')\n",
    "    )\n",
    "    .reset_index()\n",
    "    .sort_values(by='proporcao_fraude', ascending=False)\n",
    ")\n",
    "\n",
    "# Auemntar para uns 100 para ver a quebra dos bancos mais ofensores em percentual\n",
    "resumo_bin.head(10) \n"
   ]
  },
  {
   "cell_type": "markdown",
   "metadata": {},
   "source": [
    "# Aplicar a selecao de fatures por importancia antes do modelo (CONTINUAR)"
   ]
  },
  {
   "cell_type": "code",
   "execution_count": 34,
   "metadata": {},
   "outputs": [],
   "source": [
    "#################################################"
   ]
  },
  {
   "cell_type": "markdown",
   "metadata": {},
   "source": [
    "# Modelagem (separar um pouco essa fase, aqui tem separacao de treino e teste, optuna, aplicao final... separa para nao ficar pesada a leitura e correcoes, tipo modularizar mesmo)"
   ]
  },
  {
   "cell_type": "markdown",
   "metadata": {},
   "source": [
    "* estudar a criacao de uma variavel que identifica a distancia (se e anormal) entre duas transacoes, acho que usar o racional da variavel de contagem de vezes que o cartao foi usado na ultima hora (trans_count_last_hour) \n",
    "ex: uma transacao feita presencialemnte seguida de outra presencialmente em locais muito distantes em 1 hora (ou outro periodo se for o caso) podem indicar uma possivel fraude"
   ]
  },
  {
   "cell_type": "code",
   "execution_count": null,
   "metadata": {},
   "outputs": [],
   "source": []
  },
  {
   "cell_type": "code",
   "execution_count": null,
   "metadata": {},
   "outputs": [],
   "source": []
  },
  {
   "cell_type": "code",
   "execution_count": null,
   "metadata": {},
   "outputs": [
    {
     "name": "stderr",
     "output_type": "stream",
     "text": [
      "[I 2025-04-06 03:21:13,665] A new study created in memory with name: no-name-c2fb98d7-76fd-4181-82be-d5ab72db6a7b\n"
     ]
    }
   ],
   "source": [
    "\n",
    "\n",
    "import pandas as pd\n",
    "import numpy as np\n",
    "from sklearn.model_selection import train_test_split, StratifiedKFold\n",
    "from sklearn.preprocessing import OneHotEncoder, StandardScaler\n",
    "from sklearn.pipeline import Pipeline\n",
    "from sklearn.compose import ColumnTransformer\n",
    "from xgboost import XGBClassifier\n",
    "from sklearn.metrics import roc_auc_score, accuracy_score, f1_score, precision_score, recall_score\n",
    "import optuna\n",
    "from sklearn.metrics import balanced_accuracy_score, matthews_corrcoef\n",
    "\n",
    "\n",
    "# ====================\n",
    "# 1. Split em treino e teste\n",
    "# ====================\n",
    "X = df_total.drop('is_fraud', axis=1)\n",
    "y = df_total['is_fraud']\n",
    "\n",
    "X_train, X_test, y_train, y_test = train_test_split(\n",
    "    X, y, test_size=0.2, stratify=y, random_state=42\n",
    ")\n",
    "\n",
    "# Junta X_train e y_train para uso no Optuna\n",
    "df_train = X_train.copy()\n",
    "df_train['is_fraud'] = y_train\n",
    "\n",
    "target = 'is_fraud'\n",
    "\n",
    "# ====================\n",
    "# 2. Target Encoding\n",
    "# ====================\n",
    "def apply_target_encoding(train, val_or_test, col, target, smoothing=15):\n",
    "    global_mean = train[target].mean()\n",
    "    stats = train.groupby(col)[target].agg(['mean', 'count'])\n",
    "    smooth = (stats['mean'] * stats['count'] + global_mean * smoothing) / (stats['count'] + smoothing)\n",
    "    encoded_col = val_or_test[col].map(smooth).fillna(global_mean)\n",
    "    return encoded_col\n",
    "\n",
    "\n",
    "# ====================\n",
    "# 3. Transformações de Colunas\n",
    "# ====================\n",
    "# One-Hot Encoding para colunas categóricas\n",
    "def fit_transform_ohe(train_df, val_df, col):\n",
    "    ohe = OneHotEncoder(handle_unknown='ignore', sparse_output=False)\n",
    "    train_encoded = ohe.fit_transform(train_df[[col]])\n",
    "    val_encoded = ohe.transform(val_df[[col]])\n",
    "\n",
    "    train_ohe = pd.DataFrame(train_encoded, columns=[f\"{col}_{cat}\" for cat in ohe.categories_[0]], index=train_df.index)\n",
    "    val_ohe = pd.DataFrame(val_encoded, columns=[f\"{col}_{cat}\" for cat in ohe.categories_[0]], index=val_df.index)\n",
    "\n",
    "    return train_ohe, val_ohe, ohe\n",
    "\n",
    "# Colunas categóricas e contínuas\n",
    "categorical_features = ['category', 'period']\n",
    "numeric_features = [col for col in X_train.columns if col not in categorical_features]\n",
    "\n",
    "\n",
    "# ====================\n",
    "# 4. Pipeline de Pré-processamento\n",
    "# ====================\n",
    "preprocessor = ColumnTransformer(\n",
    "    transformers=[\n",
    "        ('cat', Pipeline([\n",
    "            ('target_encoding', apply_target_encoding),\n",
    "            ('onehot', OneHotEncoder(handle_unknown='ignore', sparse_output=False))\n",
    "        ]), categorical_features),\n",
    "        ('num', StandardScaler(), numeric_features)\n",
    "    ]\n",
    ")\n",
    "\n",
    "\n",
    "# ====================\n",
    "# 5. Otimização com Optuna\n",
    "# ====================\n",
    "\n",
    "#variaveis Globais \n",
    "threshold = 0.5\n",
    "\n",
    "n_trials_= 10\n",
    "\n",
    "n_splits_ = 5\n",
    "\n",
    "weights_skf = {\n",
    "    'Accuracy': 0.00,\n",
    "    'f1': 0.15,\n",
    "    'precision': 0.00,\n",
    "    'recall': 0.70,\n",
    "    'auc': 0.15,\n",
    "    'balanced_acc': 0.0,\n",
    "    'mcc': 0.00\n",
    "}\n",
    "\n",
    "\n",
    "def generate_folds_and_train(trial, df_train, target, n_splits=n_splits_):\n",
    "    skf = StratifiedKFold(n_splits=n_splits, shuffle=True, random_state=42)\n",
    "    metric_sums = {\n",
    "        'Accuracy': 0,\n",
    "        'f1': 0,\n",
    "        'precision': 0,\n",
    "        'recall': 0,\n",
    "        'auc': 0,\n",
    "        'balanced_acc': 0,\n",
    "        'mcc': 0\n",
    "    }\n",
    "\n",
    "    for train_idx, val_idx in skf.split(df_train, df_train[target]):\n",
    "        train_fold = df_train.iloc[train_idx].copy()\n",
    "        val_fold = df_train.iloc[val_idx].copy()\n",
    "\n",
    "        # ====== Target Encoding ======\n",
    "        train_fold['bin_target_enc'] = apply_target_encoding(train_fold, train_fold, 'bin', target)\n",
    "        val_fold['bin_target_enc'] = apply_target_encoding(train_fold, val_fold, 'bin', target)\n",
    "\n",
    "        # OneHot Encoding nas colunas 'category' e 'period'\n",
    "        train_ohe_cat, val_ohe_cat, _ = fit_transform_ohe(train_fold, val_fold, 'category')\n",
    "        train_ohe_period, val_ohe_period, _ = fit_transform_ohe(train_fold, val_fold, 'period')\n",
    "\n",
    "        # ====== Features Finais ======\n",
    "        X_train = pd.concat([train_fold[['bin_target_enc']], train_ohe_cat, train_ohe_period], axis=1)\n",
    "        X_val = pd.concat([val_fold[['bin_target_enc']], val_ohe_cat, val_ohe_period], axis=1)\n",
    "\n",
    "        # ====== Scaling ======\n",
    "        scaler = StandardScaler()\n",
    "        X_train_scaled = scaler.fit_transform(X_train)\n",
    "        X_val_scaled = scaler.transform(X_val)\n",
    "\n",
    "        y_train = train_fold[target]\n",
    "        y_val = val_fold[target]\n",
    "\n",
    "        # Calcula scale_pos_weight com base no desequilíbrio (para cada fold e feito o mesmo no treianmetno final se alterar la tem que altera aqui e vice versa )\n",
    "        neg, pos = np.bincount(y_train)\n",
    "        scale_pos_weight = neg / pos\n",
    "\n",
    "        # Modelo\n",
    "        model = XGBClassifier(\n",
    "            objective='binary:logistic',\n",
    "            tree_method='gpu_hist',  # ou 'hist' se não usar GPU\n",
    "            use_label_encoder=False,\n",
    "            eval_metric='logloss',\n",
    "            n_estimators=trial.suggest_int(\"n_estimators\", 50, 1000),\n",
    "            max_depth=trial.suggest_int(\"max_depth\", 2, 15),\n",
    "            learning_rate=trial.suggest_float(\"learning_rate\", 1e-4, 1e-1, log=True),\n",
    "            subsample=trial.suggest_float(\"subsample\", 0.5, 1.0),\n",
    "            colsample_bytree=trial.suggest_float(\"colsample_bytree\", 0.5, 1.0),\n",
    "            gamma=trial.suggest_float(\"gamma\", 0, 5),\n",
    "            reg_alpha=trial.suggest_float(\"reg_alpha\", 0, 5),\n",
    "            reg_lambda=trial.suggest_float(\"reg_lambda\", 0, 5),\n",
    "            scale_pos_weight=scale_pos_weight,\n",
    "            random_state=42,\n",
    "            n_jobs=-1\n",
    "        )\n",
    "\n",
    "\n",
    "        model.fit(X_train_scaled, y_train)\n",
    "        probs = model.predict_proba(X_val_scaled)[:, 1]\n",
    "        preds = (probs >= 0.5).astype(int)\n",
    "\n",
    "        # ====== MÉTRICAS ======\n",
    "        metric_sums['Accuracy']     += accuracy_score(y_val, preds)\n",
    "        metric_sums['f1']           += f1_score(y_val, preds)\n",
    "        metric_sums['precision']    += precision_score(y_val, preds, zero_division=0)\n",
    "        metric_sums['recall']       += recall_score(y_val, preds)\n",
    "        metric_sums['auc']          += roc_auc_score(y_val, probs)\n",
    "        metric_sums['balanced_acc'] += balanced_accuracy_score(y_val, preds)\n",
    "        metric_sums['mcc']          += matthews_corrcoef(y_val, preds)\n",
    "\n",
    "    # Média das métricas\n",
    "    mean_metrics = {k: v / n_splits for k, v in metric_sums.items()}\n",
    "    final_score = sum(mean_metrics[k] * weights_skf[k] for k in weights_skf)\n",
    "\n",
    "    return final_score\n",
    "\n",
    "\n",
    "# ====================\n",
    "# 6. Optuna - Otimização\n",
    "# ====================\n",
    "\n",
    "\n",
    "#variaveis globais \n",
    "\n",
    "def objective(trial):\n",
    "    return generate_folds_and_train(trial, df_train, target)\n",
    "\n",
    "\n",
    "sampler_ = optuna.samplers.TPESampler(n_startup_trials=15, \n",
    "                                      n_ei_candidates=30, \n",
    "                                      group=True,seed=42,\n",
    "                                      multivariate=True)\n",
    "\n",
    "study = optuna.create_study(direction='maximize', sampler=sampler_, pruner=optuna.pruners.PatientPruner(optuna.pruners.MedianPruner(), patience=15))\n",
    "study.optimize(objective, n_trials=n_trials_)  \n",
    "best_params = study.best_params\n",
    "\n",
    "# Melhores hiperparâmetros\n",
    "print(\"📊 MELHORES HIPERPARÂMETROS ENCONTRADOS\")\n",
    "print(\"═\" * 60)\n",
    "for param, value in best_params.items():\n",
    "    print(f\"{param:<25}{value:<15}\")\n",
    "print(\"═\" * 60)\n",
    "\n",
    "\n",
    "\n",
    "\n",
    "from xgboost import XGBClassifier\n",
    "from sklearn.metrics import roc_auc_score\n",
    "\n",
    "# ===========================\n",
    "# 1. Transforma o X_test com base no df_train completo\n",
    "# ===========================\n",
    "def apply_encoding_and_scaling(df_train, df_test, target):\n",
    "    df_test_transformed = df_test.copy()\n",
    "\n",
    "    # Target Encoding\n",
    "    df_test_transformed['bin_target_enc'] = apply_target_encoding(df_train, df_test_transformed, 'bin', target)\n",
    "\n",
    "    # One Hot Encoding\n",
    "    _, test_ohe_category, _ = fit_transform_ohe(df_train, df_test_transformed, 'category')\n",
    "    _, test_ohe_period, _ = fit_transform_ohe(df_train, df_test_transformed, 'period')\n",
    "\n",
    "    X_test = pd.concat([df_test_transformed[['bin_target_enc']], test_ohe_category, test_ohe_period], axis=1)\n",
    "\n",
    "    # Treina transformação no df_train completo\n",
    "    df_train_transf = df_train.copy()\n",
    "    df_train_transf['bin_target_enc'] = apply_target_encoding(df_train, df_train, 'bin', target)\n",
    "    _, train_ohe_category, _ = fit_transform_ohe(df_train, df_train, 'category')\n",
    "    _, train_ohe_period, _ = fit_transform_ohe(df_train, df_train, 'period')\n",
    "\n",
    "    X_train_transf = pd.concat([df_train_transf[['bin_target_enc']], train_ohe_category, train_ohe_period], axis=1)\n",
    "\n",
    "    # Escalador treinado no X_train completo\n",
    "    scaler = StandardScaler()\n",
    "    scaler.fit(X_train_transf)\n",
    "    X_test_scaled = scaler.transform(X_test)\n",
    "    X_train_scaled = scaler.transform(X_train_transf)\n",
    "\n",
    "    return X_train_scaled, X_test_scaled, df_train[target]\n",
    "\n",
    "# ===========================\n",
    "# 2. Transforma treino e teste\n",
    "# ===========================\n",
    "X_train_final, X_test_final, y_train_final = apply_encoding_and_scaling(df_train, X_test, target)\n",
    "\n",
    "# ===========================\n",
    "# 3. Treina o modelo final com os melhores parâmetros do Optuna\n",
    "# ===========================\n",
    "\n",
    "neg, pos = np.bincount(y_train_final)\n",
    "scale_pos_weight = neg / pos\n",
    "\n",
    "\n",
    "model_final = XGBClassifier(\n",
    "    n_estimators=best_params['n_estimators'],\n",
    "    max_depth=best_params['max_depth'],\n",
    "    learning_rate=best_params['learning_rate'],\n",
    "    subsample=best_params['subsample'],\n",
    "    colsample_bytree=best_params['colsample_bytree'],\n",
    "    gamma=best_params['gamma'],\n",
    "    reg_alpha=best_params['reg_alpha'],\n",
    "    reg_lambda=best_params['reg_lambda'],\n",
    "    scale_pos_weight=scale_pos_weight,\n",
    "    use_label_encoder=False,\n",
    "    eval_metric=\"logloss\",\n",
    "    random_state=42,\n",
    "    n_jobs=-1,\n",
    "    tree_method='gpu_hist'  # ou 'hist' se não for usar GPU\n",
    ")\n",
    "\n",
    "model_final.fit(X_train_final, y_train_final)\n",
    "\n",
    "# ===========================\n",
    "# 4. Gera a predição no treino\n",
    "# ===========================\n",
    "y_train_pred_proba = model_final.predict_proba(X_train_final)[:, 1]\n",
    "\n",
    "# ===========================\n",
    "# 5. Predição no conjunto de teste\n",
    "# ===========================\n",
    "y_test_pred_proba = model_final.predict_proba(X_test_final)[:, 1]\n",
    "roc_auc = roc_auc_score(y_test, y_test_pred_proba)\n",
    "\n",
    "print(f\"ROC AUC no conjunto de teste: {roc_auc:.4f}\")\n",
    "\n"
   ]
  },
  {
   "cell_type": "code",
   "execution_count": null,
   "metadata": {},
   "outputs": [],
   "source": [
    "def avaliar_modelo(y_train_true, y_train_proba, y_test_true, y_test_proba, threshold=threshold):\n",
    "    \"\"\"\n",
    "    Avalia o desempenho de um modelo de classificação binária com curvas ROC e Precision-Recall.\n",
    "\n",
    "    Parâmetros:\n",
    "        y_train_true (array-like): Valores reais do conjunto de treino.\n",
    "        y_train_proba (array-like): Probabilidades previstas no treino.\n",
    "        y_test_true (array-like): Valores reais do conjunto de teste.\n",
    "        y_test_proba (array-like): Probabilidades previstas no teste.\n",
    "        threshold (float): Limite para converter probabilidades em classes (default=0.5).\n",
    "    \"\"\"\n",
    "    from sklearn.metrics import (\n",
    "        roc_curve, roc_auc_score,\n",
    "        precision_recall_curve,\n",
    "        confusion_matrix, ConfusionMatrixDisplay,\n",
    "        accuracy_score, precision_score, recall_score, f1_score\n",
    "    )\n",
    "    import matplotlib.pyplot as plt\n",
    "\n",
    "    # Predição binária com threshold\n",
    "    y_test_pred = (y_test_proba >= threshold).astype(int)\n",
    "\n",
    "    # ===== CURVA ROC - Treino e Teste =====\n",
    "    fpr_train, tpr_train, _ = roc_curve(y_train_true, y_train_proba)\n",
    "    fpr_test, tpr_test, _ = roc_curve(y_test_true, y_test_proba)\n",
    "    auc_train = roc_auc_score(y_train_true, y_train_proba)\n",
    "    auc_test = roc_auc_score(y_test_true, y_test_proba)\n",
    "\n",
    "    plt.figure(figsize=(6, 5))\n",
    "    plt.plot(fpr_train, tpr_train, label=f\"Treino (AUC = {auc_train:.2f})\", color=\"blue\")\n",
    "    plt.plot(fpr_test, tpr_test, label=f\"Teste (AUC = {auc_test:.2f})\", color=\"darkorange\")\n",
    "    plt.plot([0, 1], [0, 1], \"k--\")\n",
    "    plt.xlabel(\"False Positive Rate\")\n",
    "    plt.ylabel(\"True Positive Rate\")\n",
    "    plt.title(\"Curva ROC - Treino vs Teste\")\n",
    "    plt.legend(loc=\"lower right\")\n",
    "    plt.grid(True)\n",
    "    plt.show()\n",
    "\n",
    "    # ===== PRECISION vs RECALL =====\n",
    "    precision, recall, thresholds = precision_recall_curve(y_test_true, y_test_proba)\n",
    "\n",
    "    plt.figure(figsize=(6, 5))\n",
    "    plt.plot(recall, precision, color=\"green\", lw=2)\n",
    "    plt.xlabel(\"Recall\")\n",
    "    plt.ylabel(\"Precision\")\n",
    "    plt.title(\"Precision vs Recall Curve (Teste)\")\n",
    "    plt.grid(True)\n",
    "    plt.show()\n",
    "\n",
    "    # ===== MATRIZ DE CONFUSÃO (Teste) =====\n",
    "    cm = confusion_matrix(y_test_true, y_test_pred)\n",
    "    disp = ConfusionMatrixDisplay(confusion_matrix=cm)\n",
    "    disp.plot(cmap=\"Blues\", values_format='d')\n",
    "    plt.title(\"Matriz de Confusão (Teste)\")\n",
    "    plt.show()\n",
    "\n",
    "    # ===== MÉTRICAS BINÁRIAS (Teste) =====\n",
    "    accuracy = accuracy_score(y_test_true, y_test_pred)\n",
    "    precision_val = precision_score(y_test_true, y_test_pred, zero_division=0)\n",
    "    recall_val = recall_score(y_test_true, y_test_pred)\n",
    "    f1 = f1_score(y_test_true, y_test_pred)\n",
    "\n",
    "    print(\"==== MÉTRICAS DE TESTE ====\")\n",
    "    print(f\"Acurácia:  {accuracy:.4f}\")\n",
    "    print(f\"Precisão:  {precision_val:.4f}\")\n",
    "    print(f\"Recall:    {recall_val:.4f}\")\n",
    "    print(f\"F1-score:  {f1:.4f}\")\n",
    "    print(f\"ROC AUC:   {auc_test:.4f}\")\n",
    "\n",
    "\n",
    "\n",
    "\n",
    "#chamndo funcao de avaliar modelo com as metricas \n",
    "\n",
    "avaliar_modelo(y_train, y_train_pred_proba, y_test, y_test_pred_proba, threshold=threshold)"
   ]
  },
  {
   "cell_type": "code",
   "execution_count": null,
   "metadata": {},
   "outputs": [],
   "source": []
  }
 ],
 "metadata": {
  "kernelspec": {
   "display_name": "Python 3",
   "language": "python",
   "name": "python3"
  },
  "language_info": {
   "codemirror_mode": {
    "name": "ipython",
    "version": 3
   },
   "file_extension": ".py",
   "mimetype": "text/x-python",
   "name": "python",
   "nbconvert_exporter": "python",
   "pygments_lexer": "ipython3",
   "version": "3.11.9"
  }
 },
 "nbformat": 4,
 "nbformat_minor": 2
}
