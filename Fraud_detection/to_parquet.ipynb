{
 "cells": [
  {
   "cell_type": "code",
   "execution_count": null,
   "metadata": {},
   "outputs": [],
   "source": [
    "#transforma csv em parquet   "
   ]
  },
  {
   "cell_type": "code",
   "execution_count": null,
   "metadata": {},
   "outputs": [],
   "source": [
    "import pandas as pd\n",
    "\n",
    "# Carrega o CSV (eu ja tinah descompactado mas exclui, github tem limite de tamanho e estava pesado)\n",
    "df_1 = pd.read_csv(\"fraudTrain.csv\")\n",
    "df_2 = pd.read_csv(\"fraudTest.csv\")\n",
    "\n",
    "\n",
    "# Salva como .parquet (compactado automaticamente)\n",
    "df_1.to_parquet(\"fraudTrain.parquet\", index=False)\n",
    "df_2.to_parquet(\"fraudTest.parquet\", index=False)\n"
   ]
  },
  {
   "cell_type": "code",
   "execution_count": null,
   "metadata": {},
   "outputs": [],
   "source": []
  }
 ],
 "metadata": {
  "kernelspec": {
   "display_name": "Python 3",
   "language": "python",
   "name": "python3"
  },
  "language_info": {
   "codemirror_mode": {
    "name": "ipython",
    "version": 3
   },
   "file_extension": ".py",
   "mimetype": "text/x-python",
   "name": "python",
   "nbconvert_exporter": "python",
   "pygments_lexer": "ipython3",
   "version": "3.11.9"
  }
 },
 "nbformat": 4,
 "nbformat_minor": 2
}
